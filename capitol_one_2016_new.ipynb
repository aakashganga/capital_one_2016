{
 "cells": [
  {
   "cell_type": "code",
   "execution_count": 1,
   "metadata": {
    "collapsed": false,
    "scrolled": true
   },
   "outputs": [
    {
     "name": "stdout",
     "output_type": "stream",
     "text": [
      "Current working dir : /Users/yizhisun/Desktop/capitol_one_2016\n"
     ]
    }
   ],
   "source": [
    "import os, sys\n",
    "# Print current working directory\n",
    "print \"Current working dir : %s\" % os.getcwd()"
   ]
  },
  {
   "cell_type": "code",
   "execution_count": 2,
   "metadata": {
    "collapsed": true
   },
   "outputs": [],
   "source": [
    "import pandas as pd\n",
    "import numpy as np\n",
    "from __future__ import division\n",
    "import graphlab\n",
    "import math\n",
    "import string\n",
    "from sklearn import preprocessing\n",
    "from operator import itemgetter"
   ]
  },
  {
   "cell_type": "code",
   "execution_count": 3,
   "metadata": {
    "collapsed": false
   },
   "outputs": [],
   "source": [
    "# Read Original Data\n",
    "data = pd.read_csv('output_new.csv')"
   ]
  },
  {
   "cell_type": "code",
   "execution_count": 4,
   "metadata": {
    "collapsed": false
   },
   "outputs": [
    {
     "name": "stdout",
     "output_type": "stream",
     "text": [
      "before...\n",
      "     0   1   2\n",
      "0    a   1   2\n",
      "1    b   1   1\n",
      "2    b   2   2\n",
      "3  NaN NaN NaN\n",
      "after...\n",
      "   0         1         2\n",
      "0  a  1.000000  2.000000\n",
      "1  b  1.000000  1.000000\n",
      "2  b  2.000000  2.000000\n",
      "3  b  1.333333  1.666667\n"
     ]
    }
   ],
   "source": [
    "# construct data impute function\n",
    "from sklearn.base import TransformerMixin\n",
    "class DataFrameImputer(TransformerMixin):\n",
    "\n",
    "    def __init__(self):\n",
    "        \"\"\"Impute missing values.\n",
    "\n",
    "        Columns of dtype object are imputed with the most frequent value \n",
    "        in column.\n",
    "\n",
    "        Columns of other types are imputed with mean of column.\n",
    "\n",
    "        \"\"\"\n",
    "    def fit(self, X, y=None):\n",
    "\n",
    "        self.fill = pd.Series([X[c].value_counts().index[0]\n",
    "            if X[c].dtype == np.dtype('O') else X[c].mean() for c in X],\n",
    "            index=X.columns)\n",
    "\n",
    "        return self\n",
    "\n",
    "    def transform(self, X, y=None):\n",
    "        return X.fillna(self.fill)\n",
    "\n",
    "data_tmp = [\n",
    "    ['a', 1, 2],\n",
    "    ['b', 1, 1],\n",
    "    ['b', 2, 2],\n",
    "    [np.nan, np.nan, np.nan]\n",
    "]\n",
    "\n",
    "X = pd.DataFrame(data_tmp)\n",
    "xt = DataFrameImputer().fit_transform(X)\n",
    "\n",
    "print('before...')\n",
    "print(X)\n",
    "print('after...')\n",
    "print(xt)\n"
   ]
  },
  {
   "cell_type": "code",
   "execution_count": 5,
   "metadata": {
    "collapsed": false
   },
   "outputs": [],
   "source": [
    "# We impute our data\n",
    "data_imputed = DataFrameImputer().fit_transform(data)"
   ]
  },
  {
   "cell_type": "code",
   "execution_count": 6,
   "metadata": {
    "collapsed": false
   },
   "outputs": [],
   "source": [
    "# delete ' ARQC_RSLT_CD'\n",
    "del data_imputed[' ARQC_RSLT_CD']\n",
    "# delete ' PIN_BLK_CD'\n",
    "del data_imputed[' PIN_BLK_CD']\n",
    "# delete ' SENDR_RSIDNL_CNTRY_CD'\n",
    "del data_imputed[' SENDR_RSIDNL_CNTRY_CD']\n",
    "# delete ' SRC_CRCY_DCML_PSN_NUM'\n",
    "del data_imputed[' SRC_CRCY_DCML_PSN_NUM']"
   ]
  },
  {
   "cell_type": "code",
   "execution_count": 7,
   "metadata": {
    "collapsed": false,
    "scrolled": true
   },
   "outputs": [
    {
     "name": "stdout",
     "output_type": "stream",
     "text": [
      "<class 'pandas.core.frame.DataFrame'>\n",
      "Int64Index: 210122 entries, 0 to 210121\n",
      "Data columns (total 79 columns):\n",
      "AUTH_ID                         210122 non-null int64\n",
      " ACCT_ID_TOKEN                  210122 non-null int64\n",
      " FRD_IND                        210122 non-null object\n",
      " ACCT_ACTVN_DT_YEAR             210122 non-null float64\n",
      " ACCT_ACTVN_DT_MONTH            210122 non-null float64\n",
      " ACCT_ACTVN_DT_DAY              210122 non-null float64\n",
      " ACCT_AVL_CASH_BEFORE_AMT       210122 non-null float64\n",
      " ACCT_AVL_MONEY_BEFORE_AMT      210122 non-null float64\n",
      " ACCT_CL_AMT                    210122 non-null float64\n",
      " ACCT_CURR_BAL                  210122 non-null float64\n",
      " ACCT_MULTICARD_IND             210122 non-null object\n",
      " ACCT_OPEN_DT_YEAR              210122 non-null int64\n",
      " ACCT_OPEN_DT_MONTH             210122 non-null int64\n",
      " ACCT_OPEN_DT_DAY               210122 non-null int64\n",
      " ACCT_PROD_CD                   210122 non-null object\n",
      " ACCT_TYPE_CD                   210122 non-null object\n",
      " ADR_VFCN_FRMT_CD               210122 non-null object\n",
      " ADR_VFCN_RESPNS_CD             210122 non-null object\n",
      " APPRD_AUTHZN_CNT               210122 non-null int64\n",
      " APPRD_CASH_AUTHZN_CNT          210122 non-null int64\n",
      " AUTHZN_ACCT_STAT_CD            210122 non-null object\n",
      " AUTHZN_AMT                     210122 non-null float64\n",
      " AUTHZN_CATG_CD                 210122 non-null float64\n",
      " AUTHZN_CHAR_CD                 210122 non-null object\n",
      " AUTHZN_OPSET_ID                210122 non-null int64\n",
      " AUTHZN_ORIG_SRC_ID             210122 non-null object\n",
      " AUTHZN_OUTSTD_AMT              210122 non-null float64\n",
      " AUTHZN_OUTSTD_CASH_AMT         210122 non-null float64\n",
      " AUTHZN_RQST_PROC_CD            210122 non-null int64\n",
      " AUTHZN_RQST_PROC_DT_YEAR       210122 non-null int64\n",
      " AUTHZN_RQST_PROC_DT_MONTH      210122 non-null int64\n",
      " AUTHZN_RQST_PROC_DT_DAY        210122 non-null int64\n",
      " AUTHZN_RQST_PROC_TM            210122 non-null int64\n",
      " AUTHZN_RQST_TYPE_CD            210122 non-null int64\n",
      " AUTHZN_TRMNL_PIN_CAPBLT_NUM    210122 non-null float64\n",
      " AVG_DLY_AUTHZN_AMT             210122 non-null int64\n",
      " CARD_VFCN_2_RESPNS_CD          210122 non-null object\n",
      " CARD_VFCN_2_VLDTN_DUR          210122 non-null int64\n",
      " CARD_VFCN_MSMT_REAS_CD         210122 non-null object\n",
      " CARD_VFCN_PRESNC_CD            210122 non-null float64\n",
      " CARD_VFCN_RESPNS_CD            210122 non-null object\n",
      " CARD_VFCN2_VLDTN_CD            210122 non-null object\n",
      " CDHLDR_PRES_CD                 210122 non-null float64\n",
      " CRCY_CNVRSN_RT                 210122 non-null int64\n",
      " ELCTR_CMRC_IND_CD              210122 non-null object\n",
      " HOME_PHN_NUM_CHNG_DUR          210122 non-null int64\n",
      " HOTEL_STAY_CAR_RENTL_DUR       210122 non-null int64\n",
      " LAST_ADR_CHNG_DUR              210122 non-null int64\n",
      " LAST_PLSTC_RQST_REAS_CD        210122 non-null object\n",
      " MRCH_CATG_CD                   210122 non-null int64\n",
      " MRCH_CNTRY_CD                  210122 non-null int64\n",
      " NEW_USER_ADDED_DUR             210122 non-null int64\n",
      " PHN_CHNG_SNC_APPN_IND          210122 non-null int64\n",
      " PIN_VLDTN_IND                  210122 non-null object\n",
      " PLSTC_ACTVN_DT_YEAR            210122 non-null float64\n",
      " PLSTC_ACTVN_DT_MONTH           210122 non-null float64\n",
      " PLSTC_ACTVN_DT_DAY             210122 non-null float64\n",
      " PLSTC_ACTVN_REQD_IND           210122 non-null object\n",
      " PLSTC_FRST_USE_TS_YEAR         210122 non-null float64\n",
      " PLSTC_FRST_USE_TS_MONTH        210122 non-null float64\n",
      " PLSTC_FRST_USE_TS_DAY          210122 non-null float64\n",
      " PLSTC_FRST_USE_TS_HOUR         210122 non-null float64\n",
      " PLSTC_ISU_DUR                  210122 non-null int64\n",
      " PLSTC_PREV_CURR_CD             210122 non-null object\n",
      " PLSTC_RQST_TS_YEAR             210122 non-null float64\n",
      " PLSTC_RQST_TS_MONTH            210122 non-null float64\n",
      " PLSTC_RQST_TS_DAY              210122 non-null float64\n",
      " PLSTC_RQST_TS_HOUR             210122 non-null float64\n",
      " POS_COND_CD                    210122 non-null int64\n",
      " POS_ENTRY_MTHD_CD              210122 non-null int64\n",
      " RCURG_AUTHZN_IND               210122 non-null object\n",
      " RVRSL_IND                      210122 non-null object\n",
      " SRC_CRCY_CD                    210122 non-null int64\n",
      " TRMNL_ATTNDNC_CD               210122 non-null float64\n",
      " TRMNL_CAPBLT_CD                210122 non-null int64\n",
      " TRMNL_CLASFN_CD                210122 non-null int64\n",
      " TRMNL_ID                       210122 non-null object\n",
      " TRMNL_PIN_CAPBLT_CD            210122 non-null int64\n",
      " DISTANCE_FROM_HOME             210122 non-null float64\n",
      "dtypes: float64(27), int64(31), object(21)\n",
      "memory usage: 128.2+ MB\n"
     ]
    }
   ],
   "source": [
    "# show the information of imputed data\n",
    "data_imputed.info()"
   ]
  },
  {
   "cell_type": "code",
   "execution_count": 8,
   "metadata": {
    "collapsed": false
   },
   "outputs": [],
   "source": [
    "# Encode all features\n",
    "le = preprocessing.LabelEncoder()\n",
    "# get feature list\n",
    "features = list(data_imputed.columns.values)\n",
    "#object_features = []\n",
    "for feature in features:\n",
    "    if data_imputed[feature].dtype == 'O':\n",
    "        #object_features.append(feature)\n",
    "        data_imputed[feature] = le.fit_transform(data_imputed[feature])"
   ]
  },
  {
   "cell_type": "code",
   "execution_count": 9,
   "metadata": {
    "collapsed": false
   },
   "outputs": [],
   "source": [
    "features.remove(' FRD_IND')"
   ]
  },
  {
   "cell_type": "code",
   "execution_count": 10,
   "metadata": {
    "collapsed": false
   },
   "outputs": [
    {
     "data": {
      "text/plain": [
       "['AUTH_ID',\n",
       " ' ACCT_ID_TOKEN',\n",
       " ' ACCT_ACTVN_DT_YEAR',\n",
       " ' ACCT_ACTVN_DT_MONTH',\n",
       " ' ACCT_ACTVN_DT_DAY',\n",
       " ' ACCT_AVL_CASH_BEFORE_AMT',\n",
       " ' ACCT_AVL_MONEY_BEFORE_AMT',\n",
       " ' ACCT_CL_AMT',\n",
       " ' ACCT_CURR_BAL',\n",
       " ' ACCT_MULTICARD_IND',\n",
       " ' ACCT_OPEN_DT_YEAR',\n",
       " ' ACCT_OPEN_DT_MONTH',\n",
       " ' ACCT_OPEN_DT_DAY',\n",
       " ' ACCT_PROD_CD',\n",
       " ' ACCT_TYPE_CD',\n",
       " ' ADR_VFCN_FRMT_CD',\n",
       " ' ADR_VFCN_RESPNS_CD',\n",
       " ' APPRD_AUTHZN_CNT',\n",
       " ' APPRD_CASH_AUTHZN_CNT',\n",
       " ' AUTHZN_ACCT_STAT_CD',\n",
       " ' AUTHZN_AMT',\n",
       " ' AUTHZN_CATG_CD',\n",
       " ' AUTHZN_CHAR_CD',\n",
       " ' AUTHZN_OPSET_ID',\n",
       " ' AUTHZN_ORIG_SRC_ID',\n",
       " ' AUTHZN_OUTSTD_AMT',\n",
       " ' AUTHZN_OUTSTD_CASH_AMT',\n",
       " ' AUTHZN_RQST_PROC_CD',\n",
       " ' AUTHZN_RQST_PROC_DT_YEAR',\n",
       " ' AUTHZN_RQST_PROC_DT_MONTH',\n",
       " ' AUTHZN_RQST_PROC_DT_DAY',\n",
       " ' AUTHZN_RQST_PROC_TM',\n",
       " ' AUTHZN_RQST_TYPE_CD',\n",
       " ' AUTHZN_TRMNL_PIN_CAPBLT_NUM',\n",
       " ' AVG_DLY_AUTHZN_AMT',\n",
       " ' CARD_VFCN_2_RESPNS_CD',\n",
       " ' CARD_VFCN_2_VLDTN_DUR',\n",
       " ' CARD_VFCN_MSMT_REAS_CD',\n",
       " ' CARD_VFCN_PRESNC_CD',\n",
       " ' CARD_VFCN_RESPNS_CD',\n",
       " ' CARD_VFCN2_VLDTN_CD',\n",
       " ' CDHLDR_PRES_CD',\n",
       " ' CRCY_CNVRSN_RT',\n",
       " ' ELCTR_CMRC_IND_CD',\n",
       " ' HOME_PHN_NUM_CHNG_DUR',\n",
       " ' HOTEL_STAY_CAR_RENTL_DUR',\n",
       " ' LAST_ADR_CHNG_DUR',\n",
       " ' LAST_PLSTC_RQST_REAS_CD',\n",
       " ' MRCH_CATG_CD',\n",
       " ' MRCH_CNTRY_CD',\n",
       " ' NEW_USER_ADDED_DUR',\n",
       " ' PHN_CHNG_SNC_APPN_IND',\n",
       " ' PIN_VLDTN_IND',\n",
       " ' PLSTC_ACTVN_DT_YEAR',\n",
       " ' PLSTC_ACTVN_DT_MONTH',\n",
       " ' PLSTC_ACTVN_DT_DAY',\n",
       " ' PLSTC_ACTVN_REQD_IND',\n",
       " ' PLSTC_FRST_USE_TS_YEAR',\n",
       " ' PLSTC_FRST_USE_TS_MONTH',\n",
       " ' PLSTC_FRST_USE_TS_DAY',\n",
       " ' PLSTC_FRST_USE_TS_HOUR',\n",
       " ' PLSTC_ISU_DUR',\n",
       " ' PLSTC_PREV_CURR_CD',\n",
       " ' PLSTC_RQST_TS_YEAR',\n",
       " ' PLSTC_RQST_TS_MONTH',\n",
       " ' PLSTC_RQST_TS_DAY',\n",
       " ' PLSTC_RQST_TS_HOUR',\n",
       " ' POS_COND_CD',\n",
       " ' POS_ENTRY_MTHD_CD',\n",
       " ' RCURG_AUTHZN_IND',\n",
       " ' RVRSL_IND',\n",
       " ' SRC_CRCY_CD',\n",
       " ' TRMNL_ATTNDNC_CD',\n",
       " ' TRMNL_CAPBLT_CD',\n",
       " ' TRMNL_CLASFN_CD',\n",
       " ' TRMNL_ID',\n",
       " ' TRMNL_PIN_CAPBLT_CD',\n",
       " ' DISTANCE_FROM_HOME']"
      ]
     },
     "execution_count": 10,
     "metadata": {},
     "output_type": "execute_result"
    }
   ],
   "source": [
    "# show the names of all features\n",
    "features"
   ]
  },
  {
   "cell_type": "code",
   "execution_count": 12,
   "metadata": {
    "collapsed": false,
    "scrolled": true
   },
   "outputs": [
    {
     "name": "stdout",
     "output_type": "stream",
     "text": [
      "0    Y\n",
      "1    Y\n",
      "2    Y\n",
      "3    Y\n",
      "4    Y\n",
      "Name:  FRD_IND, dtype: object\n",
      "0    1\n",
      "1    1\n",
      "2    1\n",
      "3    1\n",
      "4    1\n",
      "Name:  FRD_IND, dtype: int64\n"
     ]
    }
   ],
   "source": [
    "# double check that Y, N have been converted to 0 & 1\n",
    "print data[' FRD_IND'][:5]\n",
    "print data_imputed[' FRD_IND'][:5]"
   ]
  },
  {
   "cell_type": "code",
   "execution_count": 13,
   "metadata": {
    "collapsed": false,
    "scrolled": true
   },
   "outputs": [
    {
     "name": "stderr",
     "output_type": "stream",
     "text": [
      "2016-04-01 11:24:32,858 [INFO] graphlab.cython.cy_server, 176: GraphLab Create v1.8.5 started. Logging: /tmp/graphlab_server_1459524271.log\n"
     ]
    },
    {
     "name": "stdout",
     "output_type": "stream",
     "text": [
      "This non-commercial license of GraphLab Create is assigned to sunyizhi@vt.edu and will expire on October 12, 2016. For commercial licensing options, visit https://dato.com/buy/.\n"
     ]
    }
   ],
   "source": [
    "# Now our data is ready to train\n",
    "# transfer our dataset to SFrame\n",
    "data_imputed_sf = graphlab.SFrame(data=data_imputed)"
   ]
  },
  {
   "cell_type": "code",
   "execution_count": 14,
   "metadata": {
    "collapsed": false,
    "scrolled": false
   },
   "outputs": [
    {
     "data": {
      "text/html": [
       "<div style=\"max-height:1000px;max-width:1500px;overflow:auto;\"><table frame=\"box\" rules=\"cols\">\n",
       "    <tr>\n",
       "        <th style=\"padding-left: 1em; padding-right: 1em; text-align: center\">AUTH_ID</th>\n",
       "        <th style=\"padding-left: 1em; padding-right: 1em; text-align: center\"> ACCT_ID_TOKEN</th>\n",
       "        <th style=\"padding-left: 1em; padding-right: 1em; text-align: center\"> FRD_IND</th>\n",
       "        <th style=\"padding-left: 1em; padding-right: 1em; text-align: center\"> ACCT_ACTVN_DT_YEAR</th>\n",
       "        <th style=\"padding-left: 1em; padding-right: 1em; text-align: center\"> ACCT_ACTVN_DT_MONTH</th>\n",
       "        <th style=\"padding-left: 1em; padding-right: 1em; text-align: center\"> ACCT_ACTVN_DT_DAY</th>\n",
       "        <th style=\"padding-left: 1em; padding-right: 1em; text-align: center\"> ACCT_AVL_CASH_BEFORE_AMT</th>\n",
       "    </tr>\n",
       "    <tr>\n",
       "        <td style=\"padding-left: 1em; padding-right: 1em; text-align: center; vertical-align: top\">58</td>\n",
       "        <td style=\"padding-left: 1em; padding-right: 1em; text-align: center; vertical-align: top\">23296214</td>\n",
       "        <td style=\"padding-left: 1em; padding-right: 1em; text-align: center; vertical-align: top\">1</td>\n",
       "        <td style=\"padding-left: 1em; padding-right: 1em; text-align: center; vertical-align: top\">2006.0</td>\n",
       "        <td style=\"padding-left: 1em; padding-right: 1em; text-align: center; vertical-align: top\">8.0</td>\n",
       "        <td style=\"padding-left: 1em; padding-right: 1em; text-align: center; vertical-align: top\">25.0</td>\n",
       "        <td style=\"padding-left: 1em; padding-right: 1em; text-align: center; vertical-align: top\">2500.0</td>\n",
       "    </tr>\n",
       "    <tr>\n",
       "        <td style=\"padding-left: 1em; padding-right: 1em; text-align: center; vertical-align: top\">628</td>\n",
       "        <td style=\"padding-left: 1em; padding-right: 1em; text-align: center; vertical-align: top\">64354799</td>\n",
       "        <td style=\"padding-left: 1em; padding-right: 1em; text-align: center; vertical-align: top\">1</td>\n",
       "        <td style=\"padding-left: 1em; padding-right: 1em; text-align: center; vertical-align: top\">2013.0</td>\n",
       "        <td style=\"padding-left: 1em; padding-right: 1em; text-align: center; vertical-align: top\">2.0</td>\n",
       "        <td style=\"padding-left: 1em; padding-right: 1em; text-align: center; vertical-align: top\">23.0</td>\n",
       "        <td style=\"padding-left: 1em; padding-right: 1em; text-align: center; vertical-align: top\">500.0</td>\n",
       "    </tr>\n",
       "    <tr>\n",
       "        <td style=\"padding-left: 1em; padding-right: 1em; text-align: center; vertical-align: top\">1225</td>\n",
       "        <td style=\"padding-left: 1em; padding-right: 1em; text-align: center; vertical-align: top\">64354799</td>\n",
       "        <td style=\"padding-left: 1em; padding-right: 1em; text-align: center; vertical-align: top\">1</td>\n",
       "        <td style=\"padding-left: 1em; padding-right: 1em; text-align: center; vertical-align: top\">2013.0</td>\n",
       "        <td style=\"padding-left: 1em; padding-right: 1em; text-align: center; vertical-align: top\">2.0</td>\n",
       "        <td style=\"padding-left: 1em; padding-right: 1em; text-align: center; vertical-align: top\">23.0</td>\n",
       "        <td style=\"padding-left: 1em; padding-right: 1em; text-align: center; vertical-align: top\">500.0</td>\n",
       "    </tr>\n",
       "    <tr>\n",
       "        <td style=\"padding-left: 1em; padding-right: 1em; text-align: center; vertical-align: top\">3193</td>\n",
       "        <td style=\"padding-left: 1em; padding-right: 1em; text-align: center; vertical-align: top\">64354799</td>\n",
       "        <td style=\"padding-left: 1em; padding-right: 1em; text-align: center; vertical-align: top\">1</td>\n",
       "        <td style=\"padding-left: 1em; padding-right: 1em; text-align: center; vertical-align: top\">2013.0</td>\n",
       "        <td style=\"padding-left: 1em; padding-right: 1em; text-align: center; vertical-align: top\">2.0</td>\n",
       "        <td style=\"padding-left: 1em; padding-right: 1em; text-align: center; vertical-align: top\">23.0</td>\n",
       "        <td style=\"padding-left: 1em; padding-right: 1em; text-align: center; vertical-align: top\">500.0</td>\n",
       "    </tr>\n",
       "    <tr>\n",
       "        <td style=\"padding-left: 1em; padding-right: 1em; text-align: center; vertical-align: top\">3194</td>\n",
       "        <td style=\"padding-left: 1em; padding-right: 1em; text-align: center; vertical-align: top\">64354799</td>\n",
       "        <td style=\"padding-left: 1em; padding-right: 1em; text-align: center; vertical-align: top\">1</td>\n",
       "        <td style=\"padding-left: 1em; padding-right: 1em; text-align: center; vertical-align: top\">2013.0</td>\n",
       "        <td style=\"padding-left: 1em; padding-right: 1em; text-align: center; vertical-align: top\">2.0</td>\n",
       "        <td style=\"padding-left: 1em; padding-right: 1em; text-align: center; vertical-align: top\">23.0</td>\n",
       "        <td style=\"padding-left: 1em; padding-right: 1em; text-align: center; vertical-align: top\">500.0</td>\n",
       "    </tr>\n",
       "    <tr>\n",
       "        <td style=\"padding-left: 1em; padding-right: 1em; text-align: center; vertical-align: top\">3195</td>\n",
       "        <td style=\"padding-left: 1em; padding-right: 1em; text-align: center; vertical-align: top\">43220543</td>\n",
       "        <td style=\"padding-left: 1em; padding-right: 1em; text-align: center; vertical-align: top\">1</td>\n",
       "        <td style=\"padding-left: 1em; padding-right: 1em; text-align: center; vertical-align: top\">2012.0</td>\n",
       "        <td style=\"padding-left: 1em; padding-right: 1em; text-align: center; vertical-align: top\">9.0</td>\n",
       "        <td style=\"padding-left: 1em; padding-right: 1em; text-align: center; vertical-align: top\">23.0</td>\n",
       "        <td style=\"padding-left: 1em; padding-right: 1em; text-align: center; vertical-align: top\">250.0</td>\n",
       "    </tr>\n",
       "    <tr>\n",
       "        <td style=\"padding-left: 1em; padding-right: 1em; text-align: center; vertical-align: top\">4335</td>\n",
       "        <td style=\"padding-left: 1em; padding-right: 1em; text-align: center; vertical-align: top\">43220543</td>\n",
       "        <td style=\"padding-left: 1em; padding-right: 1em; text-align: center; vertical-align: top\">1</td>\n",
       "        <td style=\"padding-left: 1em; padding-right: 1em; text-align: center; vertical-align: top\">2012.0</td>\n",
       "        <td style=\"padding-left: 1em; padding-right: 1em; text-align: center; vertical-align: top\">9.0</td>\n",
       "        <td style=\"padding-left: 1em; padding-right: 1em; text-align: center; vertical-align: top\">23.0</td>\n",
       "        <td style=\"padding-left: 1em; padding-right: 1em; text-align: center; vertical-align: top\">250.0</td>\n",
       "    </tr>\n",
       "    <tr>\n",
       "        <td style=\"padding-left: 1em; padding-right: 1em; text-align: center; vertical-align: top\">4336</td>\n",
       "        <td style=\"padding-left: 1em; padding-right: 1em; text-align: center; vertical-align: top\">43220543</td>\n",
       "        <td style=\"padding-left: 1em; padding-right: 1em; text-align: center; vertical-align: top\">1</td>\n",
       "        <td style=\"padding-left: 1em; padding-right: 1em; text-align: center; vertical-align: top\">2012.0</td>\n",
       "        <td style=\"padding-left: 1em; padding-right: 1em; text-align: center; vertical-align: top\">9.0</td>\n",
       "        <td style=\"padding-left: 1em; padding-right: 1em; text-align: center; vertical-align: top\">23.0</td>\n",
       "        <td style=\"padding-left: 1em; padding-right: 1em; text-align: center; vertical-align: top\">250.0</td>\n",
       "    </tr>\n",
       "    <tr>\n",
       "        <td style=\"padding-left: 1em; padding-right: 1em; text-align: center; vertical-align: top\">4539</td>\n",
       "        <td style=\"padding-left: 1em; padding-right: 1em; text-align: center; vertical-align: top\">45163653</td>\n",
       "        <td style=\"padding-left: 1em; padding-right: 1em; text-align: center; vertical-align: top\">1</td>\n",
       "        <td style=\"padding-left: 1em; padding-right: 1em; text-align: center; vertical-align: top\">2010.29398745</td>\n",
       "        <td style=\"padding-left: 1em; padding-right: 1em; text-align: center; vertical-align: top\">6.54043014208</td>\n",
       "        <td style=\"padding-left: 1em; padding-right: 1em; text-align: center; vertical-align: top\">15.721848709</td>\n",
       "        <td style=\"padding-left: 1em; padding-right: 1em; text-align: center; vertical-align: top\">1500.0</td>\n",
       "    </tr>\n",
       "    <tr>\n",
       "        <td style=\"padding-left: 1em; padding-right: 1em; text-align: center; vertical-align: top\">5441</td>\n",
       "        <td style=\"padding-left: 1em; padding-right: 1em; text-align: center; vertical-align: top\">43220543</td>\n",
       "        <td style=\"padding-left: 1em; padding-right: 1em; text-align: center; vertical-align: top\">1</td>\n",
       "        <td style=\"padding-left: 1em; padding-right: 1em; text-align: center; vertical-align: top\">2012.0</td>\n",
       "        <td style=\"padding-left: 1em; padding-right: 1em; text-align: center; vertical-align: top\">9.0</td>\n",
       "        <td style=\"padding-left: 1em; padding-right: 1em; text-align: center; vertical-align: top\">23.0</td>\n",
       "        <td style=\"padding-left: 1em; padding-right: 1em; text-align: center; vertical-align: top\">250.0</td>\n",
       "    </tr>\n",
       "</table>\n",
       "<table frame=\"box\" rules=\"cols\">\n",
       "    <tr>\n",
       "        <th style=\"padding-left: 1em; padding-right: 1em; text-align: center\">ACCT_AVL_MONEY_BEFORE_AMT</th>\n",
       "        <th style=\"padding-left: 1em; padding-right: 1em; text-align: center\"> ACCT_CL_AMT</th>\n",
       "        <th style=\"padding-left: 1em; padding-right: 1em; text-align: center\"> ACCT_CURR_BAL</th>\n",
       "        <th style=\"padding-left: 1em; padding-right: 1em; text-align: center\"> ACCT_MULTICARD_IND</th>\n",
       "        <th style=\"padding-left: 1em; padding-right: 1em; text-align: center\"> ACCT_OPEN_DT_YEAR</th>\n",
       "        <th style=\"padding-left: 1em; padding-right: 1em; text-align: center\"> ACCT_OPEN_DT_MONTH</th>\n",
       "    </tr>\n",
       "    <tr>\n",
       "        <td style=\"padding-left: 1em; padding-right: 1em; text-align: center; vertical-align: top\">3144.78</td>\n",
       "        <td style=\"padding-left: 1em; padding-right: 1em; text-align: center; vertical-align: top\">5000.0</td>\n",
       "        <td style=\"padding-left: 1em; padding-right: 1em; text-align: center; vertical-align: top\">1855.22</td>\n",
       "        <td style=\"padding-left: 1em; padding-right: 1em; text-align: center; vertical-align: top\">0</td>\n",
       "        <td style=\"padding-left: 1em; padding-right: 1em; text-align: center; vertical-align: top\">2006</td>\n",
       "        <td style=\"padding-left: 1em; padding-right: 1em; text-align: center; vertical-align: top\">7</td>\n",
       "    </tr>\n",
       "    <tr>\n",
       "        <td style=\"padding-left: 1em; padding-right: 1em; text-align: center; vertical-align: top\">94.9</td>\n",
       "        <td style=\"padding-left: 1em; padding-right: 1em; text-align: center; vertical-align: top\">750.0</td>\n",
       "        <td style=\"padding-left: 1em; padding-right: 1em; text-align: center; vertical-align: top\">592.79</td>\n",
       "        <td style=\"padding-left: 1em; padding-right: 1em; text-align: center; vertical-align: top\">0</td>\n",
       "        <td style=\"padding-left: 1em; padding-right: 1em; text-align: center; vertical-align: top\">2012</td>\n",
       "        <td style=\"padding-left: 1em; padding-right: 1em; text-align: center; vertical-align: top\">3</td>\n",
       "    </tr>\n",
       "    <tr>\n",
       "        <td style=\"padding-left: 1em; padding-right: 1em; text-align: center; vertical-align: top\">137.21</td>\n",
       "        <td style=\"padding-left: 1em; padding-right: 1em; text-align: center; vertical-align: top\">750.0</td>\n",
       "        <td style=\"padding-left: 1em; padding-right: 1em; text-align: center; vertical-align: top\">592.79</td>\n",
       "        <td style=\"padding-left: 1em; padding-right: 1em; text-align: center; vertical-align: top\">0</td>\n",
       "        <td style=\"padding-left: 1em; padding-right: 1em; text-align: center; vertical-align: top\">2012</td>\n",
       "        <td style=\"padding-left: 1em; padding-right: 1em; text-align: center; vertical-align: top\">3</td>\n",
       "    </tr>\n",
       "    <tr>\n",
       "        <td style=\"padding-left: 1em; padding-right: 1em; text-align: center; vertical-align: top\">157.21</td>\n",
       "        <td style=\"padding-left: 1em; padding-right: 1em; text-align: center; vertical-align: top\">750.0</td>\n",
       "        <td style=\"padding-left: 1em; padding-right: 1em; text-align: center; vertical-align: top\">592.79</td>\n",
       "        <td style=\"padding-left: 1em; padding-right: 1em; text-align: center; vertical-align: top\">0</td>\n",
       "        <td style=\"padding-left: 1em; padding-right: 1em; text-align: center; vertical-align: top\">2012</td>\n",
       "        <td style=\"padding-left: 1em; padding-right: 1em; text-align: center; vertical-align: top\">3</td>\n",
       "    </tr>\n",
       "    <tr>\n",
       "        <td style=\"padding-left: 1em; padding-right: 1em; text-align: center; vertical-align: top\">58.27</td>\n",
       "        <td style=\"padding-left: 1em; padding-right: 1em; text-align: center; vertical-align: top\">750.0</td>\n",
       "        <td style=\"padding-left: 1em; padding-right: 1em; text-align: center; vertical-align: top\">592.79</td>\n",
       "        <td style=\"padding-left: 1em; padding-right: 1em; text-align: center; vertical-align: top\">0</td>\n",
       "        <td style=\"padding-left: 1em; padding-right: 1em; text-align: center; vertical-align: top\">2012</td>\n",
       "        <td style=\"padding-left: 1em; padding-right: 1em; text-align: center; vertical-align: top\">3</td>\n",
       "    </tr>\n",
       "    <tr>\n",
       "        <td style=\"padding-left: 1em; padding-right: 1em; text-align: center; vertical-align: top\">662.79</td>\n",
       "        <td style=\"padding-left: 1em; padding-right: 1em; text-align: center; vertical-align: top\">750.0</td>\n",
       "        <td style=\"padding-left: 1em; padding-right: 1em; text-align: center; vertical-align: top\">52.93</td>\n",
       "        <td style=\"padding-left: 1em; padding-right: 1em; text-align: center; vertical-align: top\">0</td>\n",
       "        <td style=\"padding-left: 1em; padding-right: 1em; text-align: center; vertical-align: top\">2010</td>\n",
       "        <td style=\"padding-left: 1em; padding-right: 1em; text-align: center; vertical-align: top\">11</td>\n",
       "    </tr>\n",
       "    <tr>\n",
       "        <td style=\"padding-left: 1em; padding-right: 1em; text-align: center; vertical-align: top\">626.26</td>\n",
       "        <td style=\"padding-left: 1em; padding-right: 1em; text-align: center; vertical-align: top\">750.0</td>\n",
       "        <td style=\"padding-left: 1em; padding-right: 1em; text-align: center; vertical-align: top\">52.93</td>\n",
       "        <td style=\"padding-left: 1em; padding-right: 1em; text-align: center; vertical-align: top\">0</td>\n",
       "        <td style=\"padding-left: 1em; padding-right: 1em; text-align: center; vertical-align: top\">2010</td>\n",
       "        <td style=\"padding-left: 1em; padding-right: 1em; text-align: center; vertical-align: top\">11</td>\n",
       "    </tr>\n",
       "    <tr>\n",
       "        <td style=\"padding-left: 1em; padding-right: 1em; text-align: center; vertical-align: top\">584.89</td>\n",
       "        <td style=\"padding-left: 1em; padding-right: 1em; text-align: center; vertical-align: top\">750.0</td>\n",
       "        <td style=\"padding-left: 1em; padding-right: 1em; text-align: center; vertical-align: top\">52.93</td>\n",
       "        <td style=\"padding-left: 1em; padding-right: 1em; text-align: center; vertical-align: top\">0</td>\n",
       "        <td style=\"padding-left: 1em; padding-right: 1em; text-align: center; vertical-align: top\">2010</td>\n",
       "        <td style=\"padding-left: 1em; padding-right: 1em; text-align: center; vertical-align: top\">11</td>\n",
       "    </tr>\n",
       "    <tr>\n",
       "        <td style=\"padding-left: 1em; padding-right: 1em; text-align: center; vertical-align: top\">2928.62</td>\n",
       "        <td style=\"padding-left: 1em; padding-right: 1em; text-align: center; vertical-align: top\">3500.0</td>\n",
       "        <td style=\"padding-left: 1em; padding-right: 1em; text-align: center; vertical-align: top\">405.61</td>\n",
       "        <td style=\"padding-left: 1em; padding-right: 1em; text-align: center; vertical-align: top\">0</td>\n",
       "        <td style=\"padding-left: 1em; padding-right: 1em; text-align: center; vertical-align: top\">2011</td>\n",
       "        <td style=\"padding-left: 1em; padding-right: 1em; text-align: center; vertical-align: top\">1</td>\n",
       "    </tr>\n",
       "    <tr>\n",
       "        <td style=\"padding-left: 1em; padding-right: 1em; text-align: center; vertical-align: top\">573.9</td>\n",
       "        <td style=\"padding-left: 1em; padding-right: 1em; text-align: center; vertical-align: top\">750.0</td>\n",
       "        <td style=\"padding-left: 1em; padding-right: 1em; text-align: center; vertical-align: top\">52.93</td>\n",
       "        <td style=\"padding-left: 1em; padding-right: 1em; text-align: center; vertical-align: top\">0</td>\n",
       "        <td style=\"padding-left: 1em; padding-right: 1em; text-align: center; vertical-align: top\">2010</td>\n",
       "        <td style=\"padding-left: 1em; padding-right: 1em; text-align: center; vertical-align: top\">11</td>\n",
       "    </tr>\n",
       "</table>\n",
       "<table frame=\"box\" rules=\"cols\">\n",
       "    <tr>\n",
       "        <th style=\"padding-left: 1em; padding-right: 1em; text-align: center\"> ACCT_OPEN_DT_DAY</th>\n",
       "        <th style=\"padding-left: 1em; padding-right: 1em; text-align: center\"> ACCT_PROD_CD</th>\n",
       "        <th style=\"padding-left: 1em; padding-right: 1em; text-align: center\"> ACCT_TYPE_CD</th>\n",
       "        <th style=\"padding-left: 1em; padding-right: 1em; text-align: center\"> ADR_VFCN_FRMT_CD</th>\n",
       "        <th style=\"padding-left: 1em; padding-right: 1em; text-align: center\"> ADR_VFCN_RESPNS_CD</th>\n",
       "        <th style=\"padding-left: 1em; padding-right: 1em; text-align: center\"> APPRD_AUTHZN_CNT</th>\n",
       "        <th style=\"padding-left: 1em; padding-right: 1em; text-align: center\"> APPRD_CASH_AUTHZN_CNT</th>\n",
       "    </tr>\n",
       "    <tr>\n",
       "        <td style=\"padding-left: 1em; padding-right: 1em; text-align: center; vertical-align: top\">29</td>\n",
       "        <td style=\"padding-left: 1em; padding-right: 1em; text-align: center; vertical-align: top\">5</td>\n",
       "        <td style=\"padding-left: 1em; padding-right: 1em; text-align: center; vertical-align: top\">0</td>\n",
       "        <td style=\"padding-left: 1em; padding-right: 1em; text-align: center; vertical-align: top\">1</td>\n",
       "        <td style=\"padding-left: 1em; padding-right: 1em; text-align: center; vertical-align: top\">1</td>\n",
       "        <td style=\"padding-left: 1em; padding-right: 1em; text-align: center; vertical-align: top\">0</td>\n",
       "        <td style=\"padding-left: 1em; padding-right: 1em; text-align: center; vertical-align: top\">0</td>\n",
       "    </tr>\n",
       "    <tr>\n",
       "        <td style=\"padding-left: 1em; padding-right: 1em; text-align: center; vertical-align: top\">28</td>\n",
       "        <td style=\"padding-left: 1em; padding-right: 1em; text-align: center; vertical-align: top\">12</td>\n",
       "        <td style=\"padding-left: 1em; padding-right: 1em; text-align: center; vertical-align: top\">0</td>\n",
       "        <td style=\"padding-left: 1em; padding-right: 1em; text-align: center; vertical-align: top\">0</td>\n",
       "        <td style=\"padding-left: 1em; padding-right: 1em; text-align: center; vertical-align: top\">4</td>\n",
       "        <td style=\"padding-left: 1em; padding-right: 1em; text-align: center; vertical-align: top\">1</td>\n",
       "        <td style=\"padding-left: 1em; padding-right: 1em; text-align: center; vertical-align: top\">0</td>\n",
       "    </tr>\n",
       "    <tr>\n",
       "        <td style=\"padding-left: 1em; padding-right: 1em; text-align: center; vertical-align: top\">28</td>\n",
       "        <td style=\"padding-left: 1em; padding-right: 1em; text-align: center; vertical-align: top\">12</td>\n",
       "        <td style=\"padding-left: 1em; padding-right: 1em; text-align: center; vertical-align: top\">0</td>\n",
       "        <td style=\"padding-left: 1em; padding-right: 1em; text-align: center; vertical-align: top\">0</td>\n",
       "        <td style=\"padding-left: 1em; padding-right: 1em; text-align: center; vertical-align: top\">4</td>\n",
       "        <td style=\"padding-left: 1em; padding-right: 1em; text-align: center; vertical-align: top\">2</td>\n",
       "        <td style=\"padding-left: 1em; padding-right: 1em; text-align: center; vertical-align: top\">0</td>\n",
       "    </tr>\n",
       "    <tr>\n",
       "        <td style=\"padding-left: 1em; padding-right: 1em; text-align: center; vertical-align: top\">28</td>\n",
       "        <td style=\"padding-left: 1em; padding-right: 1em; text-align: center; vertical-align: top\">12</td>\n",
       "        <td style=\"padding-left: 1em; padding-right: 1em; text-align: center; vertical-align: top\">0</td>\n",
       "        <td style=\"padding-left: 1em; padding-right: 1em; text-align: center; vertical-align: top\">0</td>\n",
       "        <td style=\"padding-left: 1em; padding-right: 1em; text-align: center; vertical-align: top\">4</td>\n",
       "        <td style=\"padding-left: 1em; padding-right: 1em; text-align: center; vertical-align: top\">1</td>\n",
       "        <td style=\"padding-left: 1em; padding-right: 1em; text-align: center; vertical-align: top\">0</td>\n",
       "    </tr>\n",
       "    <tr>\n",
       "        <td style=\"padding-left: 1em; padding-right: 1em; text-align: center; vertical-align: top\">28</td>\n",
       "        <td style=\"padding-left: 1em; padding-right: 1em; text-align: center; vertical-align: top\">12</td>\n",
       "        <td style=\"padding-left: 1em; padding-right: 1em; text-align: center; vertical-align: top\">0</td>\n",
       "        <td style=\"padding-left: 1em; padding-right: 1em; text-align: center; vertical-align: top\">0</td>\n",
       "        <td style=\"padding-left: 1em; padding-right: 1em; text-align: center; vertical-align: top\">4</td>\n",
       "        <td style=\"padding-left: 1em; padding-right: 1em; text-align: center; vertical-align: top\">2</td>\n",
       "        <td style=\"padding-left: 1em; padding-right: 1em; text-align: center; vertical-align: top\">0</td>\n",
       "    </tr>\n",
       "    <tr>\n",
       "        <td style=\"padding-left: 1em; padding-right: 1em; text-align: center; vertical-align: top\">3</td>\n",
       "        <td style=\"padding-left: 1em; padding-right: 1em; text-align: center; vertical-align: top\">24</td>\n",
       "        <td style=\"padding-left: 1em; padding-right: 1em; text-align: center; vertical-align: top\">0</td>\n",
       "        <td style=\"padding-left: 1em; padding-right: 1em; text-align: center; vertical-align: top\">0</td>\n",
       "        <td style=\"padding-left: 1em; padding-right: 1em; text-align: center; vertical-align: top\">4</td>\n",
       "        <td style=\"padding-left: 1em; padding-right: 1em; text-align: center; vertical-align: top\">3</td>\n",
       "        <td style=\"padding-left: 1em; padding-right: 1em; text-align: center; vertical-align: top\">0</td>\n",
       "    </tr>\n",
       "    <tr>\n",
       "        <td style=\"padding-left: 1em; padding-right: 1em; text-align: center; vertical-align: top\">3</td>\n",
       "        <td style=\"padding-left: 1em; padding-right: 1em; text-align: center; vertical-align: top\">24</td>\n",
       "        <td style=\"padding-left: 1em; padding-right: 1em; text-align: center; vertical-align: top\">0</td>\n",
       "        <td style=\"padding-left: 1em; padding-right: 1em; text-align: center; vertical-align: top\">0</td>\n",
       "        <td style=\"padding-left: 1em; padding-right: 1em; text-align: center; vertical-align: top\">4</td>\n",
       "        <td style=\"padding-left: 1em; padding-right: 1em; text-align: center; vertical-align: top\">4</td>\n",
       "        <td style=\"padding-left: 1em; padding-right: 1em; text-align: center; vertical-align: top\">0</td>\n",
       "    </tr>\n",
       "    <tr>\n",
       "        <td style=\"padding-left: 1em; padding-right: 1em; text-align: center; vertical-align: top\">3</td>\n",
       "        <td style=\"padding-left: 1em; padding-right: 1em; text-align: center; vertical-align: top\">24</td>\n",
       "        <td style=\"padding-left: 1em; padding-right: 1em; text-align: center; vertical-align: top\">0</td>\n",
       "        <td style=\"padding-left: 1em; padding-right: 1em; text-align: center; vertical-align: top\">0</td>\n",
       "        <td style=\"padding-left: 1em; padding-right: 1em; text-align: center; vertical-align: top\">4</td>\n",
       "        <td style=\"padding-left: 1em; padding-right: 1em; text-align: center; vertical-align: top\">5</td>\n",
       "        <td style=\"padding-left: 1em; padding-right: 1em; text-align: center; vertical-align: top\">0</td>\n",
       "    </tr>\n",
       "    <tr>\n",
       "        <td style=\"padding-left: 1em; padding-right: 1em; text-align: center; vertical-align: top\">3</td>\n",
       "        <td style=\"padding-left: 1em; padding-right: 1em; text-align: center; vertical-align: top\">7</td>\n",
       "        <td style=\"padding-left: 1em; padding-right: 1em; text-align: center; vertical-align: top\">0</td>\n",
       "        <td style=\"padding-left: 1em; padding-right: 1em; text-align: center; vertical-align: top\">0</td>\n",
       "        <td style=\"padding-left: 1em; padding-right: 1em; text-align: center; vertical-align: top\">4</td>\n",
       "        <td style=\"padding-left: 1em; padding-right: 1em; text-align: center; vertical-align: top\">0</td>\n",
       "        <td style=\"padding-left: 1em; padding-right: 1em; text-align: center; vertical-align: top\">0</td>\n",
       "    </tr>\n",
       "    <tr>\n",
       "        <td style=\"padding-left: 1em; padding-right: 1em; text-align: center; vertical-align: top\">3</td>\n",
       "        <td style=\"padding-left: 1em; padding-right: 1em; text-align: center; vertical-align: top\">24</td>\n",
       "        <td style=\"padding-left: 1em; padding-right: 1em; text-align: center; vertical-align: top\">0</td>\n",
       "        <td style=\"padding-left: 1em; padding-right: 1em; text-align: center; vertical-align: top\">0</td>\n",
       "        <td style=\"padding-left: 1em; padding-right: 1em; text-align: center; vertical-align: top\">4</td>\n",
       "        <td style=\"padding-left: 1em; padding-right: 1em; text-align: center; vertical-align: top\">6</td>\n",
       "        <td style=\"padding-left: 1em; padding-right: 1em; text-align: center; vertical-align: top\">0</td>\n",
       "    </tr>\n",
       "</table>\n",
       "<table frame=\"box\" rules=\"cols\">\n",
       "    <tr>\n",
       "        <th style=\"padding-left: 1em; padding-right: 1em; text-align: center\"> AUTHZN_ACCT_STAT_CD</th>\n",
       "        <th style=\"padding-left: 1em; padding-right: 1em; text-align: center\"> AUTHZN_AMT</th>\n",
       "        <th style=\"padding-left: 1em; padding-right: 1em; text-align: center\"> AUTHZN_CATG_CD</th>\n",
       "        <th style=\"padding-left: 1em; padding-right: 1em; text-align: center\"> AUTHZN_CHAR_CD</th>\n",
       "        <th style=\"padding-left: 1em; padding-right: 1em; text-align: center\"> AUTHZN_OPSET_ID</th>\n",
       "        <th style=\"padding-left: 1em; padding-right: 1em; text-align: center\"> AUTHZN_ORIG_SRC_ID</th>\n",
       "    </tr>\n",
       "    <tr>\n",
       "        <td style=\"padding-left: 1em; padding-right: 1em; text-align: center; vertical-align: top\">0</td>\n",
       "        <td style=\"padding-left: 1em; padding-right: 1em; text-align: center; vertical-align: top\">280.0</td>\n",
       "        <td style=\"padding-left: 1em; padding-right: 1em; text-align: center; vertical-align: top\">7.0</td>\n",
       "        <td style=\"padding-left: 1em; padding-right: 1em; text-align: center; vertical-align: top\">12</td>\n",
       "        <td style=\"padding-left: 1em; padding-right: 1em; text-align: center; vertical-align: top\">1</td>\n",
       "        <td style=\"padding-left: 1em; padding-right: 1em; text-align: center; vertical-align: top\">0</td>\n",
       "    </tr>\n",
       "    <tr>\n",
       "        <td style=\"padding-left: 1em; padding-right: 1em; text-align: center; vertical-align: top\">0</td>\n",
       "        <td style=\"padding-left: 1em; padding-right: 1em; text-align: center; vertical-align: top\">36.63</td>\n",
       "        <td style=\"padding-left: 1em; padding-right: 1em; text-align: center; vertical-align: top\">3.64749336452</td>\n",
       "        <td style=\"padding-left: 1em; padding-right: 1em; text-align: center; vertical-align: top\">2</td>\n",
       "        <td style=\"padding-left: 1em; padding-right: 1em; text-align: center; vertical-align: top\">1</td>\n",
       "        <td style=\"padding-left: 1em; padding-right: 1em; text-align: center; vertical-align: top\">1</td>\n",
       "    </tr>\n",
       "    <tr>\n",
       "        <td style=\"padding-left: 1em; padding-right: 1em; text-align: center; vertical-align: top\">0</td>\n",
       "        <td style=\"padding-left: 1em; padding-right: 1em; text-align: center; vertical-align: top\">42.31</td>\n",
       "        <td style=\"padding-left: 1em; padding-right: 1em; text-align: center; vertical-align: top\">3.64749336452</td>\n",
       "        <td style=\"padding-left: 1em; padding-right: 1em; text-align: center; vertical-align: top\">2</td>\n",
       "        <td style=\"padding-left: 1em; padding-right: 1em; text-align: center; vertical-align: top\">1</td>\n",
       "        <td style=\"padding-left: 1em; padding-right: 1em; text-align: center; vertical-align: top\">1</td>\n",
       "    </tr>\n",
       "    <tr>\n",
       "        <td style=\"padding-left: 1em; padding-right: 1em; text-align: center; vertical-align: top\">0</td>\n",
       "        <td style=\"padding-left: 1em; padding-right: 1em; text-align: center; vertical-align: top\">20.0</td>\n",
       "        <td style=\"padding-left: 1em; padding-right: 1em; text-align: center; vertical-align: top\">3.64749336452</td>\n",
       "        <td style=\"padding-left: 1em; padding-right: 1em; text-align: center; vertical-align: top\">2</td>\n",
       "        <td style=\"padding-left: 1em; padding-right: 1em; text-align: center; vertical-align: top\">1</td>\n",
       "        <td style=\"padding-left: 1em; padding-right: 1em; text-align: center; vertical-align: top\">1</td>\n",
       "    </tr>\n",
       "    <tr>\n",
       "        <td style=\"padding-left: 1em; padding-right: 1em; text-align: center; vertical-align: top\">0</td>\n",
       "        <td style=\"padding-left: 1em; padding-right: 1em; text-align: center; vertical-align: top\">23.27</td>\n",
       "        <td style=\"padding-left: 1em; padding-right: 1em; text-align: center; vertical-align: top\">3.64749336452</td>\n",
       "        <td style=\"padding-left: 1em; padding-right: 1em; text-align: center; vertical-align: top\">2</td>\n",
       "        <td style=\"padding-left: 1em; padding-right: 1em; text-align: center; vertical-align: top\">1</td>\n",
       "        <td style=\"padding-left: 1em; padding-right: 1em; text-align: center; vertical-align: top\">1</td>\n",
       "    </tr>\n",
       "    <tr>\n",
       "        <td style=\"padding-left: 1em; padding-right: 1em; text-align: center; vertical-align: top\">0</td>\n",
       "        <td style=\"padding-left: 1em; padding-right: 1em; text-align: center; vertical-align: top\">36.53</td>\n",
       "        <td style=\"padding-left: 1em; padding-right: 1em; text-align: center; vertical-align: top\">3.64749336452</td>\n",
       "        <td style=\"padding-left: 1em; padding-right: 1em; text-align: center; vertical-align: top\">2</td>\n",
       "        <td style=\"padding-left: 1em; padding-right: 1em; text-align: center; vertical-align: top\">1</td>\n",
       "        <td style=\"padding-left: 1em; padding-right: 1em; text-align: center; vertical-align: top\">0</td>\n",
       "    </tr>\n",
       "    <tr>\n",
       "        <td style=\"padding-left: 1em; padding-right: 1em; text-align: center; vertical-align: top\">0</td>\n",
       "        <td style=\"padding-left: 1em; padding-right: 1em; text-align: center; vertical-align: top\">41.37</td>\n",
       "        <td style=\"padding-left: 1em; padding-right: 1em; text-align: center; vertical-align: top\">0.0</td>\n",
       "        <td style=\"padding-left: 1em; padding-right: 1em; text-align: center; vertical-align: top\">5</td>\n",
       "        <td style=\"padding-left: 1em; padding-right: 1em; text-align: center; vertical-align: top\">1</td>\n",
       "        <td style=\"padding-left: 1em; padding-right: 1em; text-align: center; vertical-align: top\">0</td>\n",
       "    </tr>\n",
       "    <tr>\n",
       "        <td style=\"padding-left: 1em; padding-right: 1em; text-align: center; vertical-align: top\">0</td>\n",
       "        <td style=\"padding-left: 1em; padding-right: 1em; text-align: center; vertical-align: top\">10.99</td>\n",
       "        <td style=\"padding-left: 1em; padding-right: 1em; text-align: center; vertical-align: top\">3.64749336452</td>\n",
       "        <td style=\"padding-left: 1em; padding-right: 1em; text-align: center; vertical-align: top\">2</td>\n",
       "        <td style=\"padding-left: 1em; padding-right: 1em; text-align: center; vertical-align: top\">1</td>\n",
       "        <td style=\"padding-left: 1em; padding-right: 1em; text-align: center; vertical-align: top\">0</td>\n",
       "    </tr>\n",
       "    <tr>\n",
       "        <td style=\"padding-left: 1em; padding-right: 1em; text-align: center; vertical-align: top\">0</td>\n",
       "        <td style=\"padding-left: 1em; padding-right: 1em; text-align: center; vertical-align: top\">414.51</td>\n",
       "        <td style=\"padding-left: 1em; padding-right: 1em; text-align: center; vertical-align: top\">3.64749336452</td>\n",
       "        <td style=\"padding-left: 1em; padding-right: 1em; text-align: center; vertical-align: top\">2</td>\n",
       "        <td style=\"padding-left: 1em; padding-right: 1em; text-align: center; vertical-align: top\">1</td>\n",
       "        <td style=\"padding-left: 1em; padding-right: 1em; text-align: center; vertical-align: top\">1</td>\n",
       "    </tr>\n",
       "    <tr>\n",
       "        <td style=\"padding-left: 1em; padding-right: 1em; text-align: center; vertical-align: top\">0</td>\n",
       "        <td style=\"padding-left: 1em; padding-right: 1em; text-align: center; vertical-align: top\">76.32</td>\n",
       "        <td style=\"padding-left: 1em; padding-right: 1em; text-align: center; vertical-align: top\">0.0</td>\n",
       "        <td style=\"padding-left: 1em; padding-right: 1em; text-align: center; vertical-align: top\">2</td>\n",
       "        <td style=\"padding-left: 1em; padding-right: 1em; text-align: center; vertical-align: top\">1</td>\n",
       "        <td style=\"padding-left: 1em; padding-right: 1em; text-align: center; vertical-align: top\">0</td>\n",
       "    </tr>\n",
       "</table>\n",
       "<table frame=\"box\" rules=\"cols\">\n",
       "    <tr>\n",
       "        <th style=\"padding-left: 1em; padding-right: 1em; text-align: center\"> AUTHZN_OUTSTD_AMT</th>\n",
       "        <th style=\"padding-left: 1em; padding-right: 1em; text-align: center\"> AUTHZN_OUTSTD_CASH_AMT</th>\n",
       "        <th style=\"padding-left: 1em; padding-right: 1em; text-align: center\"> AUTHZN_RQST_PROC_CD</th>\n",
       "        <th style=\"padding-left: 1em; padding-right: 1em; text-align: center\"> AUTHZN_RQST_PROC_DT_YEAR</th>\n",
       "        <th style=\"padding-left: 1em; padding-right: 1em; text-align: center\">AUTHZN_RQST_PROC_DT_MONTH</th>\n",
       "    </tr>\n",
       "    <tr>\n",
       "        <td style=\"padding-left: 1em; padding-right: 1em; text-align: center; vertical-align: top\">0.0</td>\n",
       "        <td style=\"padding-left: 1em; padding-right: 1em; text-align: center; vertical-align: top\">0.0</td>\n",
       "        <td style=\"padding-left: 1em; padding-right: 1em; text-align: center; vertical-align: top\">1000</td>\n",
       "        <td style=\"padding-left: 1em; padding-right: 1em; text-align: center; vertical-align: top\">2013</td>\n",
       "        <td style=\"padding-left: 1em; padding-right: 1em; text-align: center; vertical-align: top\">4</td>\n",
       "    </tr>\n",
       "    <tr>\n",
       "        <td style=\"padding-left: 1em; padding-right: 1em; text-align: center; vertical-align: top\">98.94</td>\n",
       "        <td style=\"padding-left: 1em; padding-right: 1em; text-align: center; vertical-align: top\">0.0</td>\n",
       "        <td style=\"padding-left: 1em; padding-right: 1em; text-align: center; vertical-align: top\">1000</td>\n",
       "        <td style=\"padding-left: 1em; padding-right: 1em; text-align: center; vertical-align: top\">2013</td>\n",
       "        <td style=\"padding-left: 1em; padding-right: 1em; text-align: center; vertical-align: top\">3</td>\n",
       "    </tr>\n",
       "    <tr>\n",
       "        <td style=\"padding-left: 1em; padding-right: 1em; text-align: center; vertical-align: top\">62.31</td>\n",
       "        <td style=\"padding-left: 1em; padding-right: 1em; text-align: center; vertical-align: top\">0.0</td>\n",
       "        <td style=\"padding-left: 1em; padding-right: 1em; text-align: center; vertical-align: top\">1000</td>\n",
       "        <td style=\"padding-left: 1em; padding-right: 1em; text-align: center; vertical-align: top\">2013</td>\n",
       "        <td style=\"padding-left: 1em; padding-right: 1em; text-align: center; vertical-align: top\">3</td>\n",
       "    </tr>\n",
       "    <tr>\n",
       "        <td style=\"padding-left: 1em; padding-right: 1em; text-align: center; vertical-align: top\">20.0</td>\n",
       "        <td style=\"padding-left: 1em; padding-right: 1em; text-align: center; vertical-align: top\">0.0</td>\n",
       "        <td style=\"padding-left: 1em; padding-right: 1em; text-align: center; vertical-align: top\">1000</td>\n",
       "        <td style=\"padding-left: 1em; padding-right: 1em; text-align: center; vertical-align: top\">2013</td>\n",
       "        <td style=\"padding-left: 1em; padding-right: 1em; text-align: center; vertical-align: top\">3</td>\n",
       "    </tr>\n",
       "    <tr>\n",
       "        <td style=\"padding-left: 1em; padding-right: 1em; text-align: center; vertical-align: top\">122.21</td>\n",
       "        <td style=\"padding-left: 1em; padding-right: 1em; text-align: center; vertical-align: top\">0.0</td>\n",
       "        <td style=\"padding-left: 1em; padding-right: 1em; text-align: center; vertical-align: top\">1000</td>\n",
       "        <td style=\"padding-left: 1em; padding-right: 1em; text-align: center; vertical-align: top\">2013</td>\n",
       "        <td style=\"padding-left: 1em; padding-right: 1em; text-align: center; vertical-align: top\">3</td>\n",
       "    </tr>\n",
       "    <tr>\n",
       "        <td style=\"padding-left: 1em; padding-right: 1em; text-align: center; vertical-align: top\">70.81</td>\n",
       "        <td style=\"padding-left: 1em; padding-right: 1em; text-align: center; vertical-align: top\">0.0</td>\n",
       "        <td style=\"padding-left: 1em; padding-right: 1em; text-align: center; vertical-align: top\">1000</td>\n",
       "        <td style=\"padding-left: 1em; padding-right: 1em; text-align: center; vertical-align: top\">2013</td>\n",
       "        <td style=\"padding-left: 1em; padding-right: 1em; text-align: center; vertical-align: top\">3</td>\n",
       "    </tr>\n",
       "    <tr>\n",
       "        <td style=\"padding-left: 1em; padding-right: 1em; text-align: center; vertical-align: top\">112.18</td>\n",
       "        <td style=\"padding-left: 1em; padding-right: 1em; text-align: center; vertical-align: top\">0.0</td>\n",
       "        <td style=\"padding-left: 1em; padding-right: 1em; text-align: center; vertical-align: top\">1000</td>\n",
       "        <td style=\"padding-left: 1em; padding-right: 1em; text-align: center; vertical-align: top\">2013</td>\n",
       "        <td style=\"padding-left: 1em; padding-right: 1em; text-align: center; vertical-align: top\">3</td>\n",
       "    </tr>\n",
       "    <tr>\n",
       "        <td style=\"padding-left: 1em; padding-right: 1em; text-align: center; vertical-align: top\">123.17</td>\n",
       "        <td style=\"padding-left: 1em; padding-right: 1em; text-align: center; vertical-align: top\">0.0</td>\n",
       "        <td style=\"padding-left: 1em; padding-right: 1em; text-align: center; vertical-align: top\">1000</td>\n",
       "        <td style=\"padding-left: 1em; padding-right: 1em; text-align: center; vertical-align: top\">2013</td>\n",
       "        <td style=\"padding-left: 1em; padding-right: 1em; text-align: center; vertical-align: top\">3</td>\n",
       "    </tr>\n",
       "    <tr>\n",
       "        <td style=\"padding-left: 1em; padding-right: 1em; text-align: center; vertical-align: top\">165.77</td>\n",
       "        <td style=\"padding-left: 1em; padding-right: 1em; text-align: center; vertical-align: top\">0.0</td>\n",
       "        <td style=\"padding-left: 1em; padding-right: 1em; text-align: center; vertical-align: top\">1000</td>\n",
       "        <td style=\"padding-left: 1em; padding-right: 1em; text-align: center; vertical-align: top\">2013</td>\n",
       "        <td style=\"padding-left: 1em; padding-right: 1em; text-align: center; vertical-align: top\">3</td>\n",
       "    </tr>\n",
       "    <tr>\n",
       "        <td style=\"padding-left: 1em; padding-right: 1em; text-align: center; vertical-align: top\">199.49</td>\n",
       "        <td style=\"padding-left: 1em; padding-right: 1em; text-align: center; vertical-align: top\">0.0</td>\n",
       "        <td style=\"padding-left: 1em; padding-right: 1em; text-align: center; vertical-align: top\">1000</td>\n",
       "        <td style=\"padding-left: 1em; padding-right: 1em; text-align: center; vertical-align: top\">2013</td>\n",
       "        <td style=\"padding-left: 1em; padding-right: 1em; text-align: center; vertical-align: top\">3</td>\n",
       "    </tr>\n",
       "</table>\n",
       "<table frame=\"box\" rules=\"cols\">\n",
       "    <tr>\n",
       "        <th style=\"padding-left: 1em; padding-right: 1em; text-align: center\"> AUTHZN_RQST_PROC_DT_DAY</th>\n",
       "        <th style=\"padding-left: 1em; padding-right: 1em; text-align: center\"> AUTHZN_RQST_PROC_TM</th>\n",
       "        <th style=\"padding-left: 1em; padding-right: 1em; text-align: center\"> AUTHZN_RQST_TYPE_CD</th>\n",
       "        <th style=\"padding-left: 1em; padding-right: 1em; text-align: center\"> AUTHZN_TRMNL_PIN_CAPBLT_<br>NUM ...</th>\n",
       "        <th style=\"padding-left: 1em; padding-right: 1em; text-align: center\"> AVG_DLY_AUTHZN_AMT</th>\n",
       "    </tr>\n",
       "    <tr>\n",
       "        <td style=\"padding-left: 1em; padding-right: 1em; text-align: center; vertical-align: top\">15</td>\n",
       "        <td style=\"padding-left: 1em; padding-right: 1em; text-align: center; vertical-align: top\">17</td>\n",
       "        <td style=\"padding-left: 1em; padding-right: 1em; text-align: center; vertical-align: top\">0</td>\n",
       "        <td style=\"padding-left: 1em; padding-right: 1em; text-align: center; vertical-align: top\">1.87782549617</td>\n",
       "        <td style=\"padding-left: 1em; padding-right: 1em; text-align: center; vertical-align: top\">1</td>\n",
       "    </tr>\n",
       "    <tr>\n",
       "        <td style=\"padding-left: 1em; padding-right: 1em; text-align: center; vertical-align: top\">25</td>\n",
       "        <td style=\"padding-left: 1em; padding-right: 1em; text-align: center; vertical-align: top\">19</td>\n",
       "        <td style=\"padding-left: 1em; padding-right: 1em; text-align: center; vertical-align: top\">0</td>\n",
       "        <td style=\"padding-left: 1em; padding-right: 1em; text-align: center; vertical-align: top\">2.0</td>\n",
       "        <td style=\"padding-left: 1em; padding-right: 1em; text-align: center; vertical-align: top\">22</td>\n",
       "    </tr>\n",
       "    <tr>\n",
       "        <td style=\"padding-left: 1em; padding-right: 1em; text-align: center; vertical-align: top\">24</td>\n",
       "        <td style=\"padding-left: 1em; padding-right: 1em; text-align: center; vertical-align: top\">20</td>\n",
       "        <td style=\"padding-left: 1em; padding-right: 1em; text-align: center; vertical-align: top\">0</td>\n",
       "        <td style=\"padding-left: 1em; padding-right: 1em; text-align: center; vertical-align: top\">1.87782549617</td>\n",
       "        <td style=\"padding-left: 1em; padding-right: 1em; text-align: center; vertical-align: top\">21</td>\n",
       "    </tr>\n",
       "    <tr>\n",
       "        <td style=\"padding-left: 1em; padding-right: 1em; text-align: center; vertical-align: top\">24</td>\n",
       "        <td style=\"padding-left: 1em; padding-right: 1em; text-align: center; vertical-align: top\">19</td>\n",
       "        <td style=\"padding-left: 1em; padding-right: 1em; text-align: center; vertical-align: top\">0</td>\n",
       "        <td style=\"padding-left: 1em; padding-right: 1em; text-align: center; vertical-align: top\">1.0</td>\n",
       "        <td style=\"padding-left: 1em; padding-right: 1em; text-align: center; vertical-align: top\">20</td>\n",
       "    </tr>\n",
       "    <tr>\n",
       "        <td style=\"padding-left: 1em; padding-right: 1em; text-align: center; vertical-align: top\">25</td>\n",
       "        <td style=\"padding-left: 1em; padding-right: 1em; text-align: center; vertical-align: top\">19</td>\n",
       "        <td style=\"padding-left: 1em; padding-right: 1em; text-align: center; vertical-align: top\">0</td>\n",
       "        <td style=\"padding-left: 1em; padding-right: 1em; text-align: center; vertical-align: top\">1.0</td>\n",
       "        <td style=\"padding-left: 1em; padding-right: 1em; text-align: center; vertical-align: top\">22</td>\n",
       "    </tr>\n",
       "    <tr>\n",
       "        <td style=\"padding-left: 1em; padding-right: 1em; text-align: center; vertical-align: top\">20</td>\n",
       "        <td style=\"padding-left: 1em; padding-right: 1em; text-align: center; vertical-align: top\">18</td>\n",
       "        <td style=\"padding-left: 1em; padding-right: 1em; text-align: center; vertical-align: top\">0</td>\n",
       "        <td style=\"padding-left: 1em; padding-right: 1em; text-align: center; vertical-align: top\">2.0</td>\n",
       "        <td style=\"padding-left: 1em; padding-right: 1em; text-align: center; vertical-align: top\">31</td>\n",
       "    </tr>\n",
       "    <tr>\n",
       "        <td style=\"padding-left: 1em; padding-right: 1em; text-align: center; vertical-align: top\">20</td>\n",
       "        <td style=\"padding-left: 1em; padding-right: 1em; text-align: center; vertical-align: top\">21</td>\n",
       "        <td style=\"padding-left: 1em; padding-right: 1em; text-align: center; vertical-align: top\">0</td>\n",
       "        <td style=\"padding-left: 1em; padding-right: 1em; text-align: center; vertical-align: top\">1.87782549617</td>\n",
       "        <td style=\"padding-left: 1em; padding-right: 1em; text-align: center; vertical-align: top\">0</td>\n",
       "    </tr>\n",
       "    <tr>\n",
       "        <td style=\"padding-left: 1em; padding-right: 1em; text-align: center; vertical-align: top\">20</td>\n",
       "        <td style=\"padding-left: 1em; padding-right: 1em; text-align: center; vertical-align: top\">21</td>\n",
       "        <td style=\"padding-left: 1em; padding-right: 1em; text-align: center; vertical-align: top\">0</td>\n",
       "        <td style=\"padding-left: 1em; padding-right: 1em; text-align: center; vertical-align: top\">2.0</td>\n",
       "        <td style=\"padding-left: 1em; padding-right: 1em; text-align: center; vertical-align: top\">31</td>\n",
       "    </tr>\n",
       "    <tr>\n",
       "        <td style=\"padding-left: 1em; padding-right: 1em; text-align: center; vertical-align: top\">20</td>\n",
       "        <td style=\"padding-left: 1em; padding-right: 1em; text-align: center; vertical-align: top\">11</td>\n",
       "        <td style=\"padding-left: 1em; padding-right: 1em; text-align: center; vertical-align: top\">0</td>\n",
       "        <td style=\"padding-left: 1em; padding-right: 1em; text-align: center; vertical-align: top\">2.0</td>\n",
       "        <td style=\"padding-left: 1em; padding-right: 1em; text-align: center; vertical-align: top\">82</td>\n",
       "    </tr>\n",
       "    <tr>\n",
       "        <td style=\"padding-left: 1em; padding-right: 1em; text-align: center; vertical-align: top\">20</td>\n",
       "        <td style=\"padding-left: 1em; padding-right: 1em; text-align: center; vertical-align: top\">22</td>\n",
       "        <td style=\"padding-left: 1em; padding-right: 1em; text-align: center; vertical-align: top\">0</td>\n",
       "        <td style=\"padding-left: 1em; padding-right: 1em; text-align: center; vertical-align: top\">1.87782549617</td>\n",
       "        <td style=\"padding-left: 1em; padding-right: 1em; text-align: center; vertical-align: top\">32</td>\n",
       "    </tr>\n",
       "</table>\n",
       "<table frame=\"box\" rules=\"cols\">\n",
       "    <tr>\n",
       "        <th style=\"padding-left: 1em; padding-right: 1em; text-align: center\"> CARD_VFCN_2_RESPNS_CD</th>\n",
       "        <th style=\"padding-left: 1em; padding-right: 1em; text-align: center\"> CARD_VFCN_2_VLDTN_DUR</th>\n",
       "        <th style=\"padding-left: 1em; padding-right: 1em; text-align: center\"> CARD_VFCN_MSMT_REAS_CD</th>\n",
       "        <th style=\"padding-left: 1em; padding-right: 1em; text-align: center\"> CARD_VFCN_PRESNC_CD</th>\n",
       "        <th style=\"padding-left: 1em; padding-right: 1em; text-align: center\">...</th>\n",
       "    </tr>\n",
       "    <tr>\n",
       "        <td style=\"padding-left: 1em; padding-right: 1em; text-align: center; vertical-align: top\">0</td>\n",
       "        <td style=\"padding-left: 1em; padding-right: 1em; text-align: center; vertical-align: top\">82067</td>\n",
       "        <td style=\"padding-left: 1em; padding-right: 1em; text-align: center; vertical-align: top\">1</td>\n",
       "        <td style=\"padding-left: 1em; padding-right: 1em; text-align: center; vertical-align: top\">1.0</td>\n",
       "        <td style=\"padding-left: 1em; padding-right: 1em; text-align: center; vertical-align: top\">...</td>\n",
       "    </tr>\n",
       "    <tr>\n",
       "        <td style=\"padding-left: 1em; padding-right: 1em; text-align: center; vertical-align: top\">0</td>\n",
       "        <td style=\"padding-left: 1em; padding-right: 1em; text-align: center; vertical-align: top\">0</td>\n",
       "        <td style=\"padding-left: 1em; padding-right: 1em; text-align: center; vertical-align: top\">1</td>\n",
       "        <td style=\"padding-left: 1em; padding-right: 1em; text-align: center; vertical-align: top\">0.944497304155</td>\n",
       "        <td style=\"padding-left: 1em; padding-right: 1em; text-align: center; vertical-align: top\">...</td>\n",
       "    </tr>\n",
       "    <tr>\n",
       "        <td style=\"padding-left: 1em; padding-right: 1em; text-align: center; vertical-align: top\">0</td>\n",
       "        <td style=\"padding-left: 1em; padding-right: 1em; text-align: center; vertical-align: top\">0</td>\n",
       "        <td style=\"padding-left: 1em; padding-right: 1em; text-align: center; vertical-align: top\">1</td>\n",
       "        <td style=\"padding-left: 1em; padding-right: 1em; text-align: center; vertical-align: top\">0.944497304155</td>\n",
       "        <td style=\"padding-left: 1em; padding-right: 1em; text-align: center; vertical-align: top\">...</td>\n",
       "    </tr>\n",
       "    <tr>\n",
       "        <td style=\"padding-left: 1em; padding-right: 1em; text-align: center; vertical-align: top\">0</td>\n",
       "        <td style=\"padding-left: 1em; padding-right: 1em; text-align: center; vertical-align: top\">0</td>\n",
       "        <td style=\"padding-left: 1em; padding-right: 1em; text-align: center; vertical-align: top\">1</td>\n",
       "        <td style=\"padding-left: 1em; padding-right: 1em; text-align: center; vertical-align: top\">0.944497304155</td>\n",
       "        <td style=\"padding-left: 1em; padding-right: 1em; text-align: center; vertical-align: top\">...</td>\n",
       "    </tr>\n",
       "    <tr>\n",
       "        <td style=\"padding-left: 1em; padding-right: 1em; text-align: center; vertical-align: top\">0</td>\n",
       "        <td style=\"padding-left: 1em; padding-right: 1em; text-align: center; vertical-align: top\">0</td>\n",
       "        <td style=\"padding-left: 1em; padding-right: 1em; text-align: center; vertical-align: top\">1</td>\n",
       "        <td style=\"padding-left: 1em; padding-right: 1em; text-align: center; vertical-align: top\">0.944497304155</td>\n",
       "        <td style=\"padding-left: 1em; padding-right: 1em; text-align: center; vertical-align: top\">...</td>\n",
       "    </tr>\n",
       "    <tr>\n",
       "        <td style=\"padding-left: 1em; padding-right: 1em; text-align: center; vertical-align: top\">0</td>\n",
       "        <td style=\"padding-left: 1em; padding-right: 1em; text-align: center; vertical-align: top\">0</td>\n",
       "        <td style=\"padding-left: 1em; padding-right: 1em; text-align: center; vertical-align: top\">1</td>\n",
       "        <td style=\"padding-left: 1em; padding-right: 1em; text-align: center; vertical-align: top\">0.944497304155</td>\n",
       "        <td style=\"padding-left: 1em; padding-right: 1em; text-align: center; vertical-align: top\">...</td>\n",
       "    </tr>\n",
       "    <tr>\n",
       "        <td style=\"padding-left: 1em; padding-right: 1em; text-align: center; vertical-align: top\">0</td>\n",
       "        <td style=\"padding-left: 1em; padding-right: 1em; text-align: center; vertical-align: top\">0</td>\n",
       "        <td style=\"padding-left: 1em; padding-right: 1em; text-align: center; vertical-align: top\">1</td>\n",
       "        <td style=\"padding-left: 1em; padding-right: 1em; text-align: center; vertical-align: top\">0.944497304155</td>\n",
       "        <td style=\"padding-left: 1em; padding-right: 1em; text-align: center; vertical-align: top\">...</td>\n",
       "    </tr>\n",
       "    <tr>\n",
       "        <td style=\"padding-left: 1em; padding-right: 1em; text-align: center; vertical-align: top\">0</td>\n",
       "        <td style=\"padding-left: 1em; padding-right: 1em; text-align: center; vertical-align: top\">0</td>\n",
       "        <td style=\"padding-left: 1em; padding-right: 1em; text-align: center; vertical-align: top\">1</td>\n",
       "        <td style=\"padding-left: 1em; padding-right: 1em; text-align: center; vertical-align: top\">0.944497304155</td>\n",
       "        <td style=\"padding-left: 1em; padding-right: 1em; text-align: center; vertical-align: top\">...</td>\n",
       "    </tr>\n",
       "    <tr>\n",
       "        <td style=\"padding-left: 1em; padding-right: 1em; text-align: center; vertical-align: top\">0</td>\n",
       "        <td style=\"padding-left: 1em; padding-right: 1em; text-align: center; vertical-align: top\">0</td>\n",
       "        <td style=\"padding-left: 1em; padding-right: 1em; text-align: center; vertical-align: top\">1</td>\n",
       "        <td style=\"padding-left: 1em; padding-right: 1em; text-align: center; vertical-align: top\">0.944497304155</td>\n",
       "        <td style=\"padding-left: 1em; padding-right: 1em; text-align: center; vertical-align: top\">...</td>\n",
       "    </tr>\n",
       "    <tr>\n",
       "        <td style=\"padding-left: 1em; padding-right: 1em; text-align: center; vertical-align: top\">0</td>\n",
       "        <td style=\"padding-left: 1em; padding-right: 1em; text-align: center; vertical-align: top\">0</td>\n",
       "        <td style=\"padding-left: 1em; padding-right: 1em; text-align: center; vertical-align: top\">1</td>\n",
       "        <td style=\"padding-left: 1em; padding-right: 1em; text-align: center; vertical-align: top\">0.944497304155</td>\n",
       "        <td style=\"padding-left: 1em; padding-right: 1em; text-align: center; vertical-align: top\">...</td>\n",
       "    </tr>\n",
       "</table>\n",
       "[210122 rows x 79 columns]<br/>Note: Only the head of the SFrame is printed.<br/>You can use print_rows(num_rows=m, num_columns=n) to print more rows and columns.\n",
       "</div>"
      ],
      "text/plain": [
       "Columns:\n",
       "\tAUTH_ID\tint\n",
       "\t ACCT_ID_TOKEN\tint\n",
       "\t FRD_IND\tint\n",
       "\t ACCT_ACTVN_DT_YEAR\tfloat\n",
       "\t ACCT_ACTVN_DT_MONTH\tfloat\n",
       "\t ACCT_ACTVN_DT_DAY\tfloat\n",
       "\t ACCT_AVL_CASH_BEFORE_AMT\tfloat\n",
       "\t ACCT_AVL_MONEY_BEFORE_AMT\tfloat\n",
       "\t ACCT_CL_AMT\tfloat\n",
       "\t ACCT_CURR_BAL\tfloat\n",
       "\t ACCT_MULTICARD_IND\tint\n",
       "\t ACCT_OPEN_DT_YEAR\tint\n",
       "\t ACCT_OPEN_DT_MONTH\tint\n",
       "\t ACCT_OPEN_DT_DAY\tint\n",
       "\t ACCT_PROD_CD\tint\n",
       "\t ACCT_TYPE_CD\tint\n",
       "\t ADR_VFCN_FRMT_CD\tint\n",
       "\t ADR_VFCN_RESPNS_CD\tint\n",
       "\t APPRD_AUTHZN_CNT\tint\n",
       "\t APPRD_CASH_AUTHZN_CNT\tint\n",
       "\t AUTHZN_ACCT_STAT_CD\tint\n",
       "\t AUTHZN_AMT\tfloat\n",
       "\t AUTHZN_CATG_CD\tfloat\n",
       "\t AUTHZN_CHAR_CD\tint\n",
       "\t AUTHZN_OPSET_ID\tint\n",
       "\t AUTHZN_ORIG_SRC_ID\tint\n",
       "\t AUTHZN_OUTSTD_AMT\tfloat\n",
       "\t AUTHZN_OUTSTD_CASH_AMT\tfloat\n",
       "\t AUTHZN_RQST_PROC_CD\tint\n",
       "\t AUTHZN_RQST_PROC_DT_YEAR\tint\n",
       "\t AUTHZN_RQST_PROC_DT_MONTH\tint\n",
       "\t AUTHZN_RQST_PROC_DT_DAY\tint\n",
       "\t AUTHZN_RQST_PROC_TM\tint\n",
       "\t AUTHZN_RQST_TYPE_CD\tint\n",
       "\t AUTHZN_TRMNL_PIN_CAPBLT_NUM\tfloat\n",
       "\t AVG_DLY_AUTHZN_AMT\tint\n",
       "\t CARD_VFCN_2_RESPNS_CD\tint\n",
       "\t CARD_VFCN_2_VLDTN_DUR\tint\n",
       "\t CARD_VFCN_MSMT_REAS_CD\tint\n",
       "\t CARD_VFCN_PRESNC_CD\tfloat\n",
       "\t CARD_VFCN_RESPNS_CD\tint\n",
       "\t CARD_VFCN2_VLDTN_CD\tint\n",
       "\t CDHLDR_PRES_CD\tfloat\n",
       "\t CRCY_CNVRSN_RT\tint\n",
       "\t ELCTR_CMRC_IND_CD\tint\n",
       "\t HOME_PHN_NUM_CHNG_DUR\tint\n",
       "\t HOTEL_STAY_CAR_RENTL_DUR\tint\n",
       "\t LAST_ADR_CHNG_DUR\tint\n",
       "\t LAST_PLSTC_RQST_REAS_CD\tint\n",
       "\t MRCH_CATG_CD\tint\n",
       "\t MRCH_CNTRY_CD\tint\n",
       "\t NEW_USER_ADDED_DUR\tint\n",
       "\t PHN_CHNG_SNC_APPN_IND\tint\n",
       "\t PIN_VLDTN_IND\tint\n",
       "\t PLSTC_ACTVN_DT_YEAR\tfloat\n",
       "\t PLSTC_ACTVN_DT_MONTH\tfloat\n",
       "\t PLSTC_ACTVN_DT_DAY\tfloat\n",
       "\t PLSTC_ACTVN_REQD_IND\tint\n",
       "\t PLSTC_FRST_USE_TS_YEAR\tfloat\n",
       "\t PLSTC_FRST_USE_TS_MONTH\tfloat\n",
       "\t PLSTC_FRST_USE_TS_DAY\tfloat\n",
       "\t PLSTC_FRST_USE_TS_HOUR\tfloat\n",
       "\t PLSTC_ISU_DUR\tint\n",
       "\t PLSTC_PREV_CURR_CD\tint\n",
       "\t PLSTC_RQST_TS_YEAR\tfloat\n",
       "\t PLSTC_RQST_TS_MONTH\tfloat\n",
       "\t PLSTC_RQST_TS_DAY\tfloat\n",
       "\t PLSTC_RQST_TS_HOUR\tfloat\n",
       "\t POS_COND_CD\tint\n",
       "\t POS_ENTRY_MTHD_CD\tint\n",
       "\t RCURG_AUTHZN_IND\tint\n",
       "\t RVRSL_IND\tint\n",
       "\t SRC_CRCY_CD\tint\n",
       "\t TRMNL_ATTNDNC_CD\tfloat\n",
       "\t TRMNL_CAPBLT_CD\tint\n",
       "\t TRMNL_CLASFN_CD\tint\n",
       "\t TRMNL_ID\tint\n",
       "\t TRMNL_PIN_CAPBLT_CD\tint\n",
       "\t DISTANCE_FROM_HOME\tfloat\n",
       "\n",
       "Rows: 210122\n",
       "\n",
       "Data:\n",
       "+---------+----------------+----------+---------------------+----------------------+\n",
       "| AUTH_ID |  ACCT_ID_TOKEN |  FRD_IND |  ACCT_ACTVN_DT_YEAR |  ACCT_ACTVN_DT_MONTH |\n",
       "+---------+----------------+----------+---------------------+----------------------+\n",
       "|    58   |    23296214    |    1     |        2006.0       |         8.0          |\n",
       "|   628   |    64354799    |    1     |        2013.0       |         2.0          |\n",
       "|   1225  |    64354799    |    1     |        2013.0       |         2.0          |\n",
       "|   3193  |    64354799    |    1     |        2013.0       |         2.0          |\n",
       "|   3194  |    64354799    |    1     |        2013.0       |         2.0          |\n",
       "|   3195  |    43220543    |    1     |        2012.0       |         9.0          |\n",
       "|   4335  |    43220543    |    1     |        2012.0       |         9.0          |\n",
       "|   4336  |    43220543    |    1     |        2012.0       |         9.0          |\n",
       "|   4539  |    45163653    |    1     |    2010.29398745    |    6.54043014208     |\n",
       "|   5441  |    43220543    |    1     |        2012.0       |         9.0          |\n",
       "+---------+----------------+----------+---------------------+----------------------+\n",
       "+--------------------+---------------------------+----------------------------+\n",
       "|  ACCT_ACTVN_DT_DAY |  ACCT_AVL_CASH_BEFORE_AMT |  ACCT_AVL_MONEY_BEFORE_AMT |\n",
       "+--------------------+---------------------------+----------------------------+\n",
       "|        25.0        |           2500.0          |          3144.78           |\n",
       "|        23.0        |           500.0           |            94.9            |\n",
       "|        23.0        |           500.0           |           137.21           |\n",
       "|        23.0        |           500.0           |           157.21           |\n",
       "|        23.0        |           500.0           |           58.27            |\n",
       "|        23.0        |           250.0           |           662.79           |\n",
       "|        23.0        |           250.0           |           626.26           |\n",
       "|        23.0        |           250.0           |           584.89           |\n",
       "|    15.721848709    |           1500.0          |          2928.62           |\n",
       "|        23.0        |           250.0           |           573.9            |\n",
       "+--------------------+---------------------------+----------------------------+\n",
       "+--------------+----------------+---------------------+--------------------+---------------------+\n",
       "|  ACCT_CL_AMT |  ACCT_CURR_BAL |  ACCT_MULTICARD_IND |  ACCT_OPEN_DT_YEAR |  ACCT_OPEN_DT_MONTH |\n",
       "+--------------+----------------+---------------------+--------------------+---------------------+\n",
       "|    5000.0    |    1855.22     |          0          |        2006        |          7          |\n",
       "|    750.0     |     592.79     |          0          |        2012        |          3          |\n",
       "|    750.0     |     592.79     |          0          |        2012        |          3          |\n",
       "|    750.0     |     592.79     |          0          |        2012        |          3          |\n",
       "|    750.0     |     592.79     |          0          |        2012        |          3          |\n",
       "|    750.0     |     52.93      |          0          |        2010        |          11         |\n",
       "|    750.0     |     52.93      |          0          |        2010        |          11         |\n",
       "|    750.0     |     52.93      |          0          |        2010        |          11         |\n",
       "|    3500.0    |     405.61     |          0          |        2011        |          1          |\n",
       "|    750.0     |     52.93      |          0          |        2010        |          11         |\n",
       "+--------------+----------------+---------------------+--------------------+---------------------+\n",
       "+-------------------+---------------+---------------+-------------------+---------------------+\n",
       "|  ACCT_OPEN_DT_DAY |  ACCT_PROD_CD |  ACCT_TYPE_CD |  ADR_VFCN_FRMT_CD |  ADR_VFCN_RESPNS_CD |\n",
       "+-------------------+---------------+---------------+-------------------+---------------------+\n",
       "|         29        |       5       |       0       |         1         |          1          |\n",
       "|         28        |       12      |       0       |         0         |          4          |\n",
       "|         28        |       12      |       0       |         0         |          4          |\n",
       "|         28        |       12      |       0       |         0         |          4          |\n",
       "|         28        |       12      |       0       |         0         |          4          |\n",
       "|         3         |       24      |       0       |         0         |          4          |\n",
       "|         3         |       24      |       0       |         0         |          4          |\n",
       "|         3         |       24      |       0       |         0         |          4          |\n",
       "|         3         |       7       |       0       |         0         |          4          |\n",
       "|         3         |       24      |       0       |         0         |          4          |\n",
       "+-------------------+---------------+---------------+-------------------+---------------------+\n",
       "+-------------------+------------------------+-----+\n",
       "|  APPRD_AUTHZN_CNT |  APPRD_CASH_AUTHZN_CNT | ... |\n",
       "+-------------------+------------------------+-----+\n",
       "|         0         |           0            | ... |\n",
       "|         1         |           0            | ... |\n",
       "|         2         |           0            | ... |\n",
       "|         1         |           0            | ... |\n",
       "|         2         |           0            | ... |\n",
       "|         3         |           0            | ... |\n",
       "|         4         |           0            | ... |\n",
       "|         5         |           0            | ... |\n",
       "|         0         |           0            | ... |\n",
       "|         6         |           0            | ... |\n",
       "+-------------------+------------------------+-----+\n",
       "[210122 rows x 79 columns]\n",
       "Note: Only the head of the SFrame is printed.\n",
       "You can use print_rows(num_rows=m, num_columns=n) to print more rows and columns."
      ]
     },
     "execution_count": 14,
     "metadata": {},
     "output_type": "execute_result"
    }
   ],
   "source": [
    "# take a look of our dataset\n",
    "data_imputed_sf"
   ]
  },
  {
   "cell_type": "code",
   "execution_count": 54,
   "metadata": {
    "collapsed": true
   },
   "outputs": [],
   "source": [
    "# Make a train-valid-test split by 0.6, 0.2, 0.2\n",
    "train_data, valid_data = data_imputed_sf.random_split(0.8)"
   ]
  },
  {
   "cell_type": "code",
   "execution_count": 55,
   "metadata": {
    "collapsed": false,
    "scrolled": true
   },
   "outputs": [
    {
     "data": {
      "text/html": [
       "<pre>WARNING: Detected extremely low variance for feature(s) ' ACCT_MULTICARD_IND', ' AUTHZN_RQST_PROC_DT_YEAR', ' RVRSL_IND' because all entries are nearly the same.\n",
       "Proceeding with model training using all features. If the model does not provide results of adequate quality, exclude the above mentioned feature(s) from the input dataset.</pre>"
      ],
      "text/plain": [
       "WARNING: Detected extremely low variance for feature(s) ' ACCT_MULTICARD_IND', ' AUTHZN_RQST_PROC_DT_YEAR', ' RVRSL_IND' because all entries are nearly the same.\n",
       "Proceeding with model training using all features. If the model does not provide results of adequate quality, exclude the above mentioned feature(s) from the input dataset."
      ]
     },
     "metadata": {},
     "output_type": "display_data"
    },
    {
     "data": {
      "text/html": [
       "<pre>Boosted trees classifier:</pre>"
      ],
      "text/plain": [
       "Boosted trees classifier:"
      ]
     },
     "metadata": {},
     "output_type": "display_data"
    },
    {
     "data": {
      "text/html": [
       "<pre>--------------------------------------------------------</pre>"
      ],
      "text/plain": [
       "--------------------------------------------------------"
      ]
     },
     "metadata": {},
     "output_type": "display_data"
    },
    {
     "data": {
      "text/html": [
       "<pre>Number of examples          : 160112</pre>"
      ],
      "text/plain": [
       "Number of examples          : 160112"
      ]
     },
     "metadata": {},
     "output_type": "display_data"
    },
    {
     "data": {
      "text/html": [
       "<pre>Number of classes           : 2</pre>"
      ],
      "text/plain": [
       "Number of classes           : 2"
      ]
     },
     "metadata": {},
     "output_type": "display_data"
    },
    {
     "data": {
      "text/html": [
       "<pre>Number of feature columns   : 78</pre>"
      ],
      "text/plain": [
       "Number of feature columns   : 78"
      ]
     },
     "metadata": {},
     "output_type": "display_data"
    },
    {
     "data": {
      "text/html": [
       "<pre>Number of unpacked features : 78</pre>"
      ],
      "text/plain": [
       "Number of unpacked features : 78"
      ]
     },
     "metadata": {},
     "output_type": "display_data"
    },
    {
     "data": {
      "text/html": [
       "<pre>+-----------+--------------+-------------------+-------------------+---------------------+---------------------+</pre>"
      ],
      "text/plain": [
       "+-----------+--------------+-------------------+-------------------+---------------------+---------------------+"
      ]
     },
     "metadata": {},
     "output_type": "display_data"
    },
    {
     "data": {
      "text/html": [
       "<pre>| Iteration | Elapsed Time | Training-accuracy | Training-log_loss | Validation-accuracy | Validation-log_loss |</pre>"
      ],
      "text/plain": [
       "| Iteration | Elapsed Time | Training-accuracy | Training-log_loss | Validation-accuracy | Validation-log_loss |"
      ]
     },
     "metadata": {},
     "output_type": "display_data"
    },
    {
     "data": {
      "text/html": [
       "<pre>+-----------+--------------+-------------------+-------------------+---------------------+---------------------+</pre>"
      ],
      "text/plain": [
       "+-----------+--------------+-------------------+-------------------+---------------------+---------------------+"
      ]
     },
     "metadata": {},
     "output_type": "display_data"
    },
    {
     "data": {
      "text/html": [
       "<pre>| 1         | 0.133191     | 0.702671          | 0.672832          | 0.701721            | 0.673134            |</pre>"
      ],
      "text/plain": [
       "| 1         | 0.133191     | 0.702671          | 0.672832          | 0.701721            | 0.673134            |"
      ]
     },
     "metadata": {},
     "output_type": "display_data"
    },
    {
     "data": {
      "text/html": [
       "<pre>| 2         | 0.286569     | 0.709047          | 0.658806          | 0.707616            | 0.659200            |</pre>"
      ],
      "text/plain": [
       "| 2         | 0.286569     | 0.709047          | 0.658806          | 0.707616            | 0.659200            |"
      ]
     },
     "metadata": {},
     "output_type": "display_data"
    },
    {
     "data": {
      "text/html": [
       "<pre>| 3         | 0.437741     | 0.742274          | 0.634956          | 0.742269            | 0.635579            |</pre>"
      ],
      "text/plain": [
       "| 3         | 0.437741     | 0.742274          | 0.634956          | 0.742269            | 0.635579            |"
      ]
     },
     "metadata": {},
     "output_type": "display_data"
    },
    {
     "data": {
      "text/html": [
       "<pre>| 4         | 0.577330     | 0.750269          | 0.616229          | 0.751293            | 0.617191            |</pre>"
      ],
      "text/plain": [
       "| 4         | 0.577330     | 0.750269          | 0.616229          | 0.751293            | 0.617191            |"
      ]
     },
     "metadata": {},
     "output_type": "display_data"
    },
    {
     "data": {
      "text/html": [
       "<pre>| 5         | 0.715472     | 0.751867          | 0.600537          | 0.752617            | 0.601944            |</pre>"
      ],
      "text/plain": [
       "| 5         | 0.715472     | 0.751867          | 0.600537          | 0.752617            | 0.601944            |"
      ]
     },
     "metadata": {},
     "output_type": "display_data"
    },
    {
     "data": {
      "text/html": [
       "<pre>| 6         | 0.855404     | 0.757645          | 0.585274          | 0.757671            | 0.586970            |</pre>"
      ],
      "text/plain": [
       "| 6         | 0.855404     | 0.757645          | 0.585274          | 0.757671            | 0.586970            |"
      ]
     },
     "metadata": {},
     "output_type": "display_data"
    },
    {
     "data": {
      "text/html": [
       "<pre>| 10        | 1.374410     | 0.769524          | 0.548798          | 0.766695            | 0.551050            |</pre>"
      ],
      "text/plain": [
       "| 10        | 1.374410     | 0.769524          | 0.548798          | 0.766695            | 0.551050            |"
      ]
     },
     "metadata": {},
     "output_type": "display_data"
    },
    {
     "data": {
      "text/html": [
       "<pre>| 11        | 1.506896     | 0.772597          | 0.542310          | 0.769703            | 0.544611            |</pre>"
      ],
      "text/plain": [
       "| 11        | 1.506896     | 0.772597          | 0.542310          | 0.769703            | 0.544611            |"
      ]
     },
     "metadata": {},
     "output_type": "display_data"
    },
    {
     "data": {
      "text/html": [
       "<pre>| 20        | 2.717376     | 0.779579          | 0.496401          | 0.777524            | 0.499640            |</pre>"
      ],
      "text/plain": [
       "| 20        | 2.717376     | 0.779579          | 0.496401          | 0.777524            | 0.499640            |"
      ]
     },
     "metadata": {},
     "output_type": "display_data"
    },
    {
     "data": {
      "text/html": [
       "<pre>| 30        | 4.057860     | 0.784395          | 0.472837          | 0.781133            | 0.476256            |</pre>"
      ],
      "text/plain": [
       "| 30        | 4.057860     | 0.784395          | 0.472837          | 0.781133            | 0.476256            |"
      ]
     },
     "metadata": {},
     "output_type": "display_data"
    },
    {
     "data": {
      "text/html": [
       "<pre>| 40        | 5.433259     | 0.789941          | 0.457399          | 0.789556            | 0.461363            |</pre>"
      ],
      "text/plain": [
       "| 40        | 5.433259     | 0.789941          | 0.457399          | 0.789556            | 0.461363            |"
      ]
     },
     "metadata": {},
     "output_type": "display_data"
    },
    {
     "data": {
      "text/html": [
       "<pre>| 50        | 6.777141     | 0.795025          | 0.444527          | 0.793045            | 0.449551            |</pre>"
      ],
      "text/plain": [
       "| 50        | 6.777141     | 0.795025          | 0.444527          | 0.793045            | 0.449551            |"
      ]
     },
     "metadata": {},
     "output_type": "display_data"
    },
    {
     "data": {
      "text/html": [
       "<pre>| 51        | 6.916765     | 0.795531          | 0.443504          | 0.794128            | 0.448455            |</pre>"
      ],
      "text/plain": [
       "| 51        | 6.916765     | 0.795531          | 0.443504          | 0.794128            | 0.448455            |"
      ]
     },
     "metadata": {},
     "output_type": "display_data"
    },
    {
     "data": {
      "text/html": [
       "<pre>| 60        | 8.106315     | 0.799028          | 0.436264          | 0.797497            | 0.441512            |</pre>"
      ],
      "text/plain": [
       "| 60        | 8.106315     | 0.799028          | 0.436264          | 0.797497            | 0.441512            |"
      ]
     },
     "metadata": {},
     "output_type": "display_data"
    },
    {
     "data": {
      "text/html": [
       "<pre>| 70        | 9.436582     | 0.803032          | 0.428523          | 0.800746            | 0.434214            |</pre>"
      ],
      "text/plain": [
       "| 70        | 9.436582     | 0.803032          | 0.428523          | 0.800746            | 0.434214            |"
      ]
     },
     "metadata": {},
     "output_type": "display_data"
    },
    {
     "data": {
      "text/html": [
       "<pre>| 80        | 10.782537    | 0.806592          | 0.421995          | 0.803393            | 0.427988            |</pre>"
      ],
      "text/plain": [
       "| 80        | 10.782537    | 0.806592          | 0.421995          | 0.803393            | 0.427988            |"
      ]
     },
     "metadata": {},
     "output_type": "display_data"
    },
    {
     "data": {
      "text/html": [
       "<pre>| 90        | 12.082646    | 0.809746          | 0.416471          | 0.804717            | 0.422773            |</pre>"
      ],
      "text/plain": [
       "| 90        | 12.082646    | 0.809746          | 0.416471          | 0.804717            | 0.422773            |"
      ]
     },
     "metadata": {},
     "output_type": "display_data"
    },
    {
     "data": {
      "text/html": [
       "<pre>| 100       | 13.442909    | 0.813093          | 0.410569          | 0.807845            | 0.417597            |</pre>"
      ],
      "text/plain": [
       "| 100       | 13.442909    | 0.813093          | 0.410569          | 0.807845            | 0.417597            |"
      ]
     },
     "metadata": {},
     "output_type": "display_data"
    },
    {
     "data": {
      "text/html": [
       "<pre>| 101       | 13.592682    | 0.813287          | 0.409979          | 0.808206            | 0.417050            |</pre>"
      ],
      "text/plain": [
       "| 101       | 13.592682    | 0.813287          | 0.409979          | 0.808206            | 0.417050            |"
      ]
     },
     "metadata": {},
     "output_type": "display_data"
    },
    {
     "data": {
      "text/html": [
       "<pre>| 110       | 14.870008    | 0.815111          | 0.406634          | 0.810131            | 0.414164            |</pre>"
      ],
      "text/plain": [
       "| 110       | 14.870008    | 0.815111          | 0.406634          | 0.810131            | 0.414164            |"
      ]
     },
     "metadata": {},
     "output_type": "display_data"
    },
    {
     "data": {
      "text/html": [
       "<pre>| 120       | 16.215830    | 0.818302          | 0.401900          | 0.813500            | 0.410139            |</pre>"
      ],
      "text/plain": [
       "| 120       | 16.215830    | 0.818302          | 0.401900          | 0.813500            | 0.410139            |"
      ]
     },
     "metadata": {},
     "output_type": "display_data"
    },
    {
     "data": {
      "text/html": [
       "<pre>| 130       | 17.565805    | 0.821319          | 0.397166          | 0.816268            | 0.406176            |</pre>"
      ],
      "text/plain": [
       "| 130       | 17.565805    | 0.821319          | 0.397166          | 0.816268            | 0.406176            |"
      ]
     },
     "metadata": {},
     "output_type": "display_data"
    },
    {
     "data": {
      "text/html": [
       "<pre>| 140       | 18.941316    | 0.824242          | 0.393010          | 0.817952            | 0.402894            |</pre>"
      ],
      "text/plain": [
       "| 140       | 18.941316    | 0.824242          | 0.393010          | 0.817952            | 0.402894            |"
      ]
     },
     "metadata": {},
     "output_type": "display_data"
    },
    {
     "data": {
      "text/html": [
       "<pre>| 150       | 20.457330    | 0.826565          | 0.388789          | 0.819998            | 0.399290            |</pre>"
      ],
      "text/plain": [
       "| 150       | 20.457330    | 0.826565          | 0.388789          | 0.819998            | 0.399290            |"
      ]
     },
     "metadata": {},
     "output_type": "display_data"
    },
    {
     "data": {
      "text/html": [
       "<pre>| 160       | 21.799378    | 0.828420          | 0.384879          | 0.821562            | 0.396073            |</pre>"
      ],
      "text/plain": [
       "| 160       | 21.799378    | 0.828420          | 0.384879          | 0.821562            | 0.396073            |"
      ]
     },
     "metadata": {},
     "output_type": "display_data"
    },
    {
     "data": {
      "text/html": [
       "<pre>| 170       | 23.246698    | 0.830506          | 0.381569          | 0.823607            | 0.393828            |</pre>"
      ],
      "text/plain": [
       "| 170       | 23.246698    | 0.830506          | 0.381569          | 0.823607            | 0.393828            |"
      ]
     },
     "metadata": {},
     "output_type": "display_data"
    },
    {
     "data": {
      "text/html": [
       "<pre>| 180       | 24.701008    | 0.832417          | 0.378515          | 0.824570            | 0.391269            |</pre>"
      ],
      "text/plain": [
       "| 180       | 24.701008    | 0.832417          | 0.378515          | 0.824570            | 0.391269            |"
      ]
     },
     "metadata": {},
     "output_type": "display_data"
    },
    {
     "data": {
      "text/html": [
       "<pre>| 190       | 26.087341    | 0.834747          | 0.374834          | 0.827097            | 0.388394            |</pre>"
      ],
      "text/plain": [
       "| 190       | 26.087341    | 0.834747          | 0.374834          | 0.827097            | 0.388394            |"
      ]
     },
     "metadata": {},
     "output_type": "display_data"
    },
    {
     "data": {
      "text/html": [
       "<pre>| 200       | 27.453974    | 0.836127          | 0.371966          | 0.826976            | 0.386254            |</pre>"
      ],
      "text/plain": [
       "| 200       | 27.453974    | 0.836127          | 0.371966          | 0.826976            | 0.386254            |"
      ]
     },
     "metadata": {},
     "output_type": "display_data"
    },
    {
     "data": {
      "text/html": [
       "<pre>| 210       | 29.011070    | 0.838020          | 0.368973          | 0.827217            | 0.383950            |</pre>"
      ],
      "text/plain": [
       "| 210       | 29.011070    | 0.838020          | 0.368973          | 0.827217            | 0.383950            |"
      ]
     },
     "metadata": {},
     "output_type": "display_data"
    },
    {
     "data": {
      "text/html": [
       "<pre>| 220       | 30.452843    | 0.839912          | 0.365902          | 0.828661            | 0.381726            |</pre>"
      ],
      "text/plain": [
       "| 220       | 30.452843    | 0.839912          | 0.365902          | 0.828661            | 0.381726            |"
      ]
     },
     "metadata": {},
     "output_type": "display_data"
    },
    {
     "data": {
      "text/html": [
       "<pre>| 230       | 31.835019    | 0.841517          | 0.363374          | 0.829383            | 0.379797            |</pre>"
      ],
      "text/plain": [
       "| 230       | 31.835019    | 0.841517          | 0.363374          | 0.829383            | 0.379797            |"
      ]
     },
     "metadata": {},
     "output_type": "display_data"
    },
    {
     "data": {
      "text/html": [
       "<pre>| 240       | 33.214073    | 0.843141          | 0.360438          | 0.831188            | 0.377830            |</pre>"
      ],
      "text/plain": [
       "| 240       | 33.214073    | 0.843141          | 0.360438          | 0.831188            | 0.377830            |"
      ]
     },
     "metadata": {},
     "output_type": "display_data"
    },
    {
     "data": {
      "text/html": [
       "<pre>| 250       | 34.578979    | 0.845333          | 0.357287          | 0.831188            | 0.375552            |</pre>"
      ],
      "text/plain": [
       "| 250       | 34.578979    | 0.845333          | 0.357287          | 0.831188            | 0.375552            |"
      ]
     },
     "metadata": {},
     "output_type": "display_data"
    },
    {
     "data": {
      "text/html": [
       "<pre>| 260       | 35.988709    | 0.846789          | 0.354961          | 0.831669            | 0.373747            |</pre>"
      ],
      "text/plain": [
       "| 260       | 35.988709    | 0.846789          | 0.354961          | 0.831669            | 0.373747            |"
      ]
     },
     "metadata": {},
     "output_type": "display_data"
    },
    {
     "data": {
      "text/html": [
       "<pre>| 270       | 37.395451    | 0.848038          | 0.352731          | 0.832271            | 0.372406            |</pre>"
      ],
      "text/plain": [
       "| 270       | 37.395451    | 0.848038          | 0.352731          | 0.832271            | 0.372406            |"
      ]
     },
     "metadata": {},
     "output_type": "display_data"
    },
    {
     "data": {
      "text/html": [
       "<pre>| 280       | 38.816559    | 0.849930          | 0.350091          | 0.833233            | 0.370609            |</pre>"
      ],
      "text/plain": [
       "| 280       | 38.816559    | 0.849930          | 0.350091          | 0.833233            | 0.370609            |"
      ]
     },
     "metadata": {},
     "output_type": "display_data"
    },
    {
     "data": {
      "text/html": [
       "<pre>| 290       | 40.217678    | 0.851192          | 0.347754          | 0.835279            | 0.368369            |</pre>"
      ],
      "text/plain": [
       "| 290       | 40.217678    | 0.851192          | 0.347754          | 0.835279            | 0.368369            |"
      ]
     },
     "metadata": {},
     "output_type": "display_data"
    },
    {
     "data": {
      "text/html": [
       "<pre>| 300       | 41.679970    | 0.852678          | 0.345244          | 0.836241            | 0.366776            |</pre>"
      ],
      "text/plain": [
       "| 300       | 41.679970    | 0.852678          | 0.345244          | 0.836241            | 0.366776            |"
      ]
     },
     "metadata": {},
     "output_type": "display_data"
    },
    {
     "data": {
      "text/html": [
       "<pre>| 310       | 43.092707    | 0.854152          | 0.343001          | 0.836602            | 0.365063            |</pre>"
      ],
      "text/plain": [
       "| 310       | 43.092707    | 0.854152          | 0.343001          | 0.836602            | 0.365063            |"
      ]
     },
     "metadata": {},
     "output_type": "display_data"
    },
    {
     "data": {
      "text/html": [
       "<pre>| 320       | 44.474267    | 0.855601          | 0.340687          | 0.838407            | 0.363459            |</pre>"
      ],
      "text/plain": [
       "| 320       | 44.474267    | 0.855601          | 0.340687          | 0.838407            | 0.363459            |"
      ]
     },
     "metadata": {},
     "output_type": "display_data"
    },
    {
     "data": {
      "text/html": [
       "<pre>| 330       | 45.876373    | 0.856913          | 0.338754          | 0.838166            | 0.362191            |</pre>"
      ],
      "text/plain": [
       "| 330       | 45.876373    | 0.856913          | 0.338754          | 0.838166            | 0.362191            |"
      ]
     },
     "metadata": {},
     "output_type": "display_data"
    },
    {
     "data": {
      "text/html": [
       "<pre>| 340       | 47.205674    | 0.858293          | 0.336665          | 0.839610            | 0.360864            |</pre>"
      ],
      "text/plain": [
       "| 340       | 47.205674    | 0.858293          | 0.336665          | 0.839610            | 0.360864            |"
      ]
     },
     "metadata": {},
     "output_type": "display_data"
    },
    {
     "data": {
      "text/html": [
       "<pre>| 350       | 48.719003    | 0.859592          | 0.334378          | 0.841174            | 0.359440            |</pre>"
      ],
      "text/plain": [
       "| 350       | 48.719003    | 0.859592          | 0.334378          | 0.841174            | 0.359440            |"
      ]
     },
     "metadata": {},
     "output_type": "display_data"
    },
    {
     "data": {
      "text/html": [
       "<pre>| 360       | 50.118943    | 0.860329          | 0.332662          | 0.841054            | 0.358706            |</pre>"
      ],
      "text/plain": [
       "| 360       | 50.118943    | 0.860329          | 0.332662          | 0.841054            | 0.358706            |"
      ]
     },
     "metadata": {},
     "output_type": "display_data"
    },
    {
     "data": {
      "text/html": [
       "<pre>| 370       | 51.482610    | 0.861828          | 0.330714          | 0.842859            | 0.357468            |</pre>"
      ],
      "text/plain": [
       "| 370       | 51.482610    | 0.861828          | 0.330714          | 0.842859            | 0.357468            |"
      ]
     },
     "metadata": {},
     "output_type": "display_data"
    },
    {
     "data": {
      "text/html": [
       "<pre>| 380       | 52.908590    | 0.863152          | 0.329163          | 0.843340            | 0.356532            |</pre>"
      ],
      "text/plain": [
       "| 380       | 52.908590    | 0.863152          | 0.329163          | 0.843340            | 0.356532            |"
      ]
     },
     "metadata": {},
     "output_type": "display_data"
    },
    {
     "data": {
      "text/html": [
       "<pre>| 390       | 54.298176    | 0.864045          | 0.327496          | 0.843581            | 0.355463            |</pre>"
      ],
      "text/plain": [
       "| 390       | 54.298176    | 0.864045          | 0.327496          | 0.843581            | 0.355463            |"
      ]
     },
     "metadata": {},
     "output_type": "display_data"
    },
    {
     "data": {
      "text/html": [
       "<pre>| 400       | 55.698231    | 0.865063          | 0.325789          | 0.844543            | 0.354189            |</pre>"
      ],
      "text/plain": [
       "| 400       | 55.698231    | 0.865063          | 0.325789          | 0.844543            | 0.354189            |"
      ]
     },
     "metadata": {},
     "output_type": "display_data"
    },
    {
     "data": {
      "text/html": [
       "<pre>| 410       | 57.084161    | 0.866025          | 0.323872          | 0.845867            | 0.352801            |</pre>"
      ],
      "text/plain": [
       "| 410       | 57.084161    | 0.866025          | 0.323872          | 0.845867            | 0.352801            |"
      ]
     },
     "metadata": {},
     "output_type": "display_data"
    },
    {
     "data": {
      "text/html": [
       "<pre>| 420       | 58.462985    | 0.867355          | 0.321817          | 0.847070            | 0.351496            |</pre>"
      ],
      "text/plain": [
       "| 420       | 58.462985    | 0.867355          | 0.321817          | 0.847070            | 0.351496            |"
      ]
     },
     "metadata": {},
     "output_type": "display_data"
    },
    {
     "data": {
      "text/html": [
       "<pre>| 430       | 59.893109    | 0.868380          | 0.319893          | 0.848514            | 0.350311            |</pre>"
      ],
      "text/plain": [
       "| 430       | 59.893109    | 0.868380          | 0.319893          | 0.848514            | 0.350311            |"
      ]
     },
     "metadata": {},
     "output_type": "display_data"
    },
    {
     "data": {
      "text/html": [
       "<pre>| 440       | 61.349450    | 0.869104          | 0.318391          | 0.849356            | 0.349253            |</pre>"
      ],
      "text/plain": [
       "| 440       | 61.349450    | 0.869104          | 0.318391          | 0.849356            | 0.349253            |"
      ]
     },
     "metadata": {},
     "output_type": "display_data"
    },
    {
     "data": {
      "text/html": [
       "<pre>| 450       | 62.699750    | 0.869866          | 0.316987          | 0.850319            | 0.348074            |</pre>"
      ],
      "text/plain": [
       "| 450       | 62.699750    | 0.869866          | 0.316987          | 0.850319            | 0.348074            |"
      ]
     },
     "metadata": {},
     "output_type": "display_data"
    },
    {
     "data": {
      "text/html": [
       "<pre>| 460       | 64.086967    | 0.870691          | 0.315398          | 0.850319            | 0.347087            |</pre>"
      ],
      "text/plain": [
       "| 460       | 64.086967    | 0.870691          | 0.315398          | 0.850319            | 0.347087            |"
      ]
     },
     "metadata": {},
     "output_type": "display_data"
    },
    {
     "data": {
      "text/html": [
       "<pre>| 470       | 65.479495    | 0.871777          | 0.313702          | 0.850800            | 0.346060            |</pre>"
      ],
      "text/plain": [
       "| 470       | 65.479495    | 0.871777          | 0.313702          | 0.850800            | 0.346060            |"
      ]
     },
     "metadata": {},
     "output_type": "display_data"
    },
    {
     "data": {
      "text/html": [
       "<pre>| 480       | 66.888478    | 0.872839          | 0.311773          | 0.850439            | 0.344800            |</pre>"
      ],
      "text/plain": [
       "| 480       | 66.888478    | 0.872839          | 0.311773          | 0.850439            | 0.344800            |"
      ]
     },
     "metadata": {},
     "output_type": "display_data"
    },
    {
     "data": {
      "text/html": [
       "<pre>| 490       | 68.327897    | 0.874013          | 0.310190          | 0.851642            | 0.343448            |</pre>"
      ],
      "text/plain": [
       "| 490       | 68.327897    | 0.874013          | 0.310190          | 0.851642            | 0.343448            |"
      ]
     },
     "metadata": {},
     "output_type": "display_data"
    },
    {
     "data": {
      "text/html": [
       "<pre>| 500       | 69.797887    | 0.874963          | 0.308534          | 0.852725            | 0.342877            |</pre>"
      ],
      "text/plain": [
       "| 500       | 69.797887    | 0.874963          | 0.308534          | 0.852725            | 0.342877            |"
      ]
     },
     "metadata": {},
     "output_type": "display_data"
    },
    {
     "data": {
      "text/html": [
       "<pre>+-----------+--------------+-------------------+-------------------+---------------------+---------------------+</pre>"
      ],
      "text/plain": [
       "+-----------+--------------+-------------------+-------------------+---------------------+---------------------+"
      ]
     },
     "metadata": {},
     "output_type": "display_data"
    },
    {
     "name": "stdout",
     "output_type": "stream",
     "text": [
      "PROGRESS: Creating a validation set from 5 percent of training data. This may take a while.\n",
      "          You can set ``validation_set=None`` to disable validation tracking.\n",
      "\n"
     ]
    }
   ],
   "source": [
    "model = graphlab.boosted_trees_classifier.create(train_data, target=' FRD_IND',\n",
    "                                                 features = features,\n",
    "                                                 max_iterations=500,\n",
    "                                                 max_depth = 5,\n",
    "                                                 step_size = 0.1,\n",
    "                                                 row_subsample = 0.5,      \n",
    "                                                 column_subsample = 0.5)\n"
   ]
  },
  {
   "cell_type": "code",
   "execution_count": 56,
   "metadata": {
    "collapsed": false,
    "scrolled": true
   },
   "outputs": [],
   "source": [
    "# Save predictions to an SFrame (class and corresponding class-probabilities)\n",
    "\n",
    "\n",
    "# Evaluate the model and save the results into a dictionary\n",
    "results = model.evaluate(valid_data)"
   ]
  },
  {
   "cell_type": "code",
   "execution_count": 57,
   "metadata": {
    "collapsed": false,
    "scrolled": true
   },
   "outputs": [
    {
     "data": {
      "text/plain": [
       "{'accuracy': 0.8544809228039042,\n",
       " 'auc': 0.9326016140646327,\n",
       " 'confusion_matrix': Columns:\n",
       " \ttarget_label\tint\n",
       " \tpredicted_label\tint\n",
       " \tcount\tint\n",
       " \n",
       " Rows: 4\n",
       " \n",
       " Data:\n",
       " +--------------+-----------------+-------+\n",
       " | target_label | predicted_label | count |\n",
       " +--------------+-----------------+-------+\n",
       " |      1       |        0        |  3237 |\n",
       " |      1       |        1        | 17763 |\n",
       " |      0       |        1        |  2831 |\n",
       " |      0       |        0        | 17868 |\n",
       " +--------------+-----------------+-------+\n",
       " [4 rows x 3 columns],\n",
       " 'f1_score': 0.8541135740731837,\n",
       " 'log_loss': 0.3388430475361453,\n",
       " 'precision': 0.8625327765368555,\n",
       " 'recall': 0.8458571428571429,\n",
       " 'roc_curve': Columns:\n",
       " \tthreshold\tfloat\n",
       " \tfpr\tfloat\n",
       " \ttpr\tfloat\n",
       " \tp\tint\n",
       " \tn\tint\n",
       " \n",
       " Rows: 100001\n",
       " \n",
       " Data:\n",
       " +-----------+-----+-----+-------+-------+\n",
       " | threshold | fpr | tpr |   p   |   n   |\n",
       " +-----------+-----+-----+-------+-------+\n",
       " |    0.0    | 1.0 | 1.0 | 21000 | 20699 |\n",
       " |   1e-05   | 1.0 | 1.0 | 21000 | 20699 |\n",
       " |   2e-05   | 1.0 | 1.0 | 21000 | 20699 |\n",
       " |   3e-05   | 1.0 | 1.0 | 21000 | 20699 |\n",
       " |   4e-05   | 1.0 | 1.0 | 21000 | 20699 |\n",
       " |   5e-05   | 1.0 | 1.0 | 21000 | 20699 |\n",
       " |   6e-05   | 1.0 | 1.0 | 21000 | 20699 |\n",
       " |   7e-05   | 1.0 | 1.0 | 21000 | 20699 |\n",
       " |   8e-05   | 1.0 | 1.0 | 21000 | 20699 |\n",
       " |   9e-05   | 1.0 | 1.0 | 21000 | 20699 |\n",
       " +-----------+-----+-----+-------+-------+\n",
       " [100001 rows x 5 columns]\n",
       " Note: Only the head of the SFrame is printed.\n",
       " You can use print_rows(num_rows=m, num_columns=n) to print more rows and columns.}"
      ]
     },
     "execution_count": 57,
     "metadata": {},
     "output_type": "execute_result"
    }
   ],
   "source": [
    "results"
   ]
  },
  {
   "cell_type": "code",
   "execution_count": 70,
   "metadata": {
    "collapsed": false,
    "scrolled": true
   },
   "outputs": [
    {
     "name": "stdout",
     "output_type": "stream",
     "text": [
      "0\n",
      "0.461153835058\n"
     ]
    }
   ],
   "source": [
    "predictions = model.predict(valid_data)\n",
    "print predictions[13]\n",
    "\n",
    "predictions_prob = model.predict(valid_data, output_type='probability')\n",
    "print predictions_prob[13]"
   ]
  },
  {
   "cell_type": "code",
   "execution_count": 59,
   "metadata": {
    "collapsed": true
   },
   "outputs": [],
   "source": [
    "# Plot ROC curve\n",
    "import matplotlib.pyplot as plt\n",
    "import matplotlib\n",
    "%matplotlib inline"
   ]
  },
  {
   "cell_type": "code",
   "execution_count": 60,
   "metadata": {
    "collapsed": true
   },
   "outputs": [],
   "source": [
    "fpr,  tpr = results['roc_curve']['fpr'], results['roc_curve']['tpr']"
   ]
  },
  {
   "cell_type": "code",
   "execution_count": 61,
   "metadata": {
    "collapsed": false
   },
   "outputs": [
    {
     "data": {
      "text/plain": [
       "dtype: float\n",
       "Rows: 100001\n",
       "[1.0, 1.0, 1.0, 1.0, 1.0, 1.0, 1.0, 1.0, 1.0, 1.0, 1.0, 1.0, 1.0, 1.0, 1.0, 1.0, 1.0, 1.0, 1.0, 1.0, 1.0, 1.0, 1.0, 1.0, 1.0, 1.0, 1.0, 1.0, 1.0, 1.0, 0.9999516884873665, 0.9999033769747331, 0.9999033769747331, 0.9998550654620996, 0.9998550654620996, 0.9998067539494662, 0.9998067539494662, 0.9998067539494662, 0.9998067539494662, 0.9997584424368327, 0.9997101309241992, 0.9997101309241992, 0.9997101309241992, 0.9996618194115657, 0.9995651963862988, 0.9995168848736654, 0.9995168848736654, 0.9995168848736654, 0.9995168848736654, 0.9995168848736654, 0.9995168848736654, 0.9995168848736654, 0.9995168848736654, 0.9994685733610319, 0.9994685733610319, 0.9994202618483985, 0.9994202618483985, 0.9994202618483985, 0.9994202618483985, 0.9993236388231316, 0.9992753273104981, 0.9992270157978647, 0.9991787042852311, 0.9991787042852311, 0.9991303927725977, 0.9990337697473308, 0.9990337697473308, 0.9989371467220639, 0.998840523696797, 0.998840523696797, 0.9987922121841635, 0.9986955891588966, 0.9985023431083627, 0.9984540315957292, 0.9984540315957292, 0.9984540315957292, 0.9984057200830958, 0.9984057200830958, 0.9983090970578289, 0.998212474032562, 0.9981641625199285, 0.998115851007295, 0.998115851007295, 0.9980675394946615, 0.9979709164693946, 0.9978742934441277, 0.9978259819314943, 0.9978259819314943, 0.9977293589062274, 0.9976327358809605, 0.997584424368327, 0.9975361128556935, 0.99748780134306, 0.99748780134306, 0.99748780134306, 0.9974394898304266, 0.9973428668051597, 0.9972945552925262, 0.9971496207546259, 0.9971013092419924, ... ]"
      ]
     },
     "execution_count": 61,
     "metadata": {},
     "output_type": "execute_result"
    }
   ],
   "source": [
    "fpr"
   ]
  },
  {
   "cell_type": "code",
   "execution_count": 62,
   "metadata": {
    "collapsed": false,
    "scrolled": false
   },
   "outputs": [
    {
     "data": {
      "text/plain": [
       "<matplotlib.legend.Legend at 0x12cb12a10>"
      ]
     },
     "execution_count": 62,
     "metadata": {},
     "output_type": "execute_result"
    },
    {
     "data": {
      "image/png": "[encoded data removed]",
      "text/plain": [
       "<matplotlib.figure.Figure at 0x14c6f2ad0>"
      ]
     },
     "metadata": {},
     "output_type": "display_data"
    }
   ],
   "source": [
    "plt.plot(fpr, tpr, label='ROC curve')\n",
    "plt.plot([0, 1], [0, 1], 'k--')\n",
    "plt.xlim([0.0, 1.0])\n",
    "plt.ylim([0.0, 1.05])\n",
    "plt.xlabel('False Positive Rate')\n",
    "plt.ylabel('True Positive Rate')\n",
    "plt.title('The ROC curve for this project')\n",
    "plt.legend(loc=\"lower right\")"
   ]
  },
  {
   "cell_type": "code",
   "execution_count": 96,
   "metadata": {
    "collapsed": true
   },
   "outputs": [],
   "source": [
    "# We need to use loss function to set the cutoff point\n",
    "def lossFunction(creditLine, transactionAmount, pi, actualOutput):\n",
    "    cutOffs = np.linspace(0.14, 0.2, num=20)\n",
    "\n",
    "    losses = np.zeros(20)\n",
    "    i = 0\n",
    "    for cutOff in cutOffs:\n",
    "        print(cutOff)\n",
    "        j = 0\n",
    "        for crdLine in creditLine:\n",
    "\n",
    "            if pi[j] >= cutOff:\n",
    "                if actualOutput[j] == 0:\n",
    "                    if crdLine < 2000:\n",
    "                        losses[i] += 0.02 * 75 + transactionAmount[j] * 0.0075\n",
    "                    else:\n",
    "                        losses[i] += 0.05 * 275 + 4 * transactionAmount[j] * 0.005\n",
    "            else:\n",
    "                if actualOutput[j] == 1:\n",
    "                    losses[i] += transactionAmount[j]\n",
    "            j += 1\n",
    "        i += 1\n",
    "\n",
    "    index = min(enumerate(losses), key=itemgetter(1))[0]\n",
    "    loss = losses[index]\n",
    "    indices = [i for i, x in enumerate(losses) if abs(x - loss) < 0.001]\n",
    "\n",
    "    return cutOffs[max(indices)], losses"
   ]
  },
  {
   "cell_type": "code",
   "execution_count": 97,
   "metadata": {
    "collapsed": true
   },
   "outputs": [],
   "source": [
    "creditLine_valid = valid_data[' ACCT_CL_AMT']\n",
    "transactionAmount_valid = valid_data[' AUTHZN_AMT']\n",
    "pi_valid = predictions_prob\n",
    "actualOutput_valid = valid_data[' FRD_IND']"
   ]
  },
  {
   "cell_type": "code",
   "execution_count": 98,
   "metadata": {
    "collapsed": false
   },
   "outputs": [
    {
     "name": "stdout",
     "output_type": "stream",
     "text": [
      "0.14\n",
      "0.143157894737\n",
      "0.146315789474\n",
      "0.149473684211\n",
      "0.152631578947\n",
      "0.155789473684\n",
      "0.158947368421\n",
      "0.162105263158\n",
      "0.165263157895\n",
      "0.168421052632\n",
      "0.171578947368\n",
      "0.174736842105\n",
      "0.177894736842\n",
      "0.181052631579\n",
      "0.184210526316\n",
      "0.187368421053\n",
      "0.190526315789\n",
      "0.193684210526\n",
      "0.196842105263\n",
      "0.2\n"
     ]
    }
   ],
   "source": [
    "c_best, losses = lossFunction(creditLine_valid, transactionAmount_valid, pi_valid, actualOutput_valid)"
   ]
  },
  {
   "cell_type": "code",
   "execution_count": 99,
   "metadata": {
    "collapsed": false,
    "scrolled": false
   },
   "outputs": [
    {
     "name": "stdout",
     "output_type": "stream",
     "text": [
      "0.184210526316\n",
      "[ 93045.389925  92651.3387    91793.833575  91623.3224    90929.3706\n",
      "  90397.95465   89989.04435   89445.66325   88608.35315   87968.04145\n",
      "  87319.379375  86894.160475  87466.198525  87082.5928    86447.81405\n",
      "  86643.557225  88379.58395   89146.280675  88733.8017    89091.33585 ]\n"
     ]
    }
   ],
   "source": [
    "print c_best\n",
    "print losses"
   ]
  },
  {
   "cell_type": "code",
   "execution_count": 108,
   "metadata": {
    "collapsed": false
   },
   "outputs": [
    {
     "name": "stdout",
     "output_type": "stream",
     "text": [
      "Canvas is accessible via web browser at the URL: http://localhost:54472/index.html\n",
      "Opening Canvas in default web browser.\n"
     ]
    }
   ],
   "source": [
    "model.show()"
   ]
  },
  {
   "cell_type": "markdown",
   "metadata": {},
   "source": [
    "# So the cutoff point is 0.184"
   ]
  },
  {
   "cell_type": "markdown",
   "metadata": {},
   "source": [
    "# Starts from here for the test dataset"
   ]
  },
  {
   "cell_type": "code",
   "execution_count": 102,
   "metadata": {
    "collapsed": false,
    "scrolled": true
   },
   "outputs": [],
   "source": [
    "data_test = pd.read_csv('output_validation_transformed.csv')"
   ]
  },
  {
   "cell_type": "code",
   "execution_count": 103,
   "metadata": {
    "collapsed": false
   },
   "outputs": [],
   "source": [
    "data_test_imputed = DataFrameImputer().fit_transform(data_test)"
   ]
  },
  {
   "cell_type": "code",
   "execution_count": 104,
   "metadata": {
    "collapsed": true
   },
   "outputs": [],
   "source": [
    "# delete ' ARQC_RSLT_CD'\n",
    "del data_test_imputed[' ARQC_RSLT_CD']\n",
    "# delete ' PIN_BLK_CD'\n",
    "del data_test_imputed[' PIN_BLK_CD']\n",
    "# delete ' SENDR_RSIDNL_CNTRY_CD'\n",
    "del data_test_imputed[' SENDR_RSIDNL_CNTRY_CD']\n",
    "# delete ' SRC_CRCY_DCML_PSN_NUM'\n",
    "del data_test_imputed[' SRC_CRCY_DCML_PSN_NUM']"
   ]
  },
  {
   "cell_type": "code",
   "execution_count": 105,
   "metadata": {
    "collapsed": false,
    "scrolled": true
   },
   "outputs": [
    {
     "data": {
      "text/plain": [
       "0          NaN\n",
       "1          NaN\n",
       "2          NaN\n",
       "3          NaN\n",
       "4          NaN\n",
       "5          NaN\n",
       "6          NaN\n",
       "7          NaN\n",
       "8          NaN\n",
       "9          NaN\n",
       "10         NaN\n",
       "11         NaN\n",
       "12         NaN\n",
       "13         NaN\n",
       "14         NaN\n",
       "15         NaN\n",
       "16         NaN\n",
       "17         NaN\n",
       "18         NaN\n",
       "19         NaN\n",
       "20         NaN\n",
       "21         NaN\n",
       "22         NaN\n",
       "23         NaN\n",
       "24         NaN\n",
       "25         NaN\n",
       "26         NaN\n",
       "27         NaN\n",
       "28         NaN\n",
       "29         NaN\n",
       "            ..\n",
       "11302879   NaN\n",
       "11302880   NaN\n",
       "11302881   NaN\n",
       "11302882   NaN\n",
       "11302883   NaN\n",
       "11302884   NaN\n",
       "11302885   NaN\n",
       "11302886   NaN\n",
       "11302887   NaN\n",
       "11302888   NaN\n",
       "11302889   NaN\n",
       "11302890   NaN\n",
       "11302891   NaN\n",
       "11302892   NaN\n",
       "11302893   NaN\n",
       "11302894   NaN\n",
       "11302895   NaN\n",
       "11302896   NaN\n",
       "11302897   NaN\n",
       "11302898   NaN\n",
       "11302899   NaN\n",
       "11302900   NaN\n",
       "11302901   NaN\n",
       "11302902   NaN\n",
       "11302903   NaN\n",
       "11302904   NaN\n",
       "11302905   NaN\n",
       "11302906   NaN\n",
       "11302907   NaN\n",
       "11302908   NaN\n",
       "Name:  FRD_IND, dtype: float64"
      ]
     },
     "execution_count": 105,
     "metadata": {},
     "output_type": "execute_result"
    }
   ],
   "source": [
    "data_test_imputed[' FRD_IND']"
   ]
  },
  {
   "cell_type": "code",
   "execution_count": 106,
   "metadata": {
    "collapsed": true
   },
   "outputs": [],
   "source": [
    "# get feature list\n",
    "features_test = list(data_test_imputed.columns.values)\n",
    "#object_features = []\n",
    "for feature in features_test:\n",
    "    if data_test_imputed[feature].dtype == 'O' and feature != ' FRD_IND':\n",
    "        #object_features.append(feature)\n",
    "        data_test_imputed[feature] = le.fit_transform(data_test_imputed[feature])"
   ]
  },
  {
   "cell_type": "code",
   "execution_count": 107,
   "metadata": {
    "collapsed": true
   },
   "outputs": [],
   "source": [
    "data_test_imputed_sf = graphlab.SFrame(data=data_test_imputed)"
   ]
  },
  {
   "cell_type": "code",
   "execution_count": 111,
   "metadata": {
    "collapsed": false,
    "scrolled": true
   },
   "outputs": [
    {
     "data": {
      "text/html": [
       "<pre>External memory mode: 14 batches</pre>"
      ],
      "text/plain": [
       "External memory mode: 14 batches"
      ]
     },
     "metadata": {},
     "output_type": "display_data"
    }
   ],
   "source": [
    "prob_final = model.predict(data_test_imputed_sf, output_type='probability')\n"
   ]
  },
  {
   "cell_type": "code",
   "execution_count": 112,
   "metadata": {
    "collapsed": false,
    "scrolled": true
   },
   "outputs": [
    {
     "data": {
      "text/plain": [
       "dtype: float\n",
       "Rows: 11302909\n",
       "[0.3152681291103363, 0.19388847053050995, 0.6806464195251465, 0.11644598096609116, 0.16059599816799164, 0.09803858399391174, 0.6078845262527466, 0.20614619553089142, 0.34071049094200134, 0.32168254256248474, 0.7438180446624756, 0.4270799160003662, 0.34498700499534607, 0.3710542917251587, 0.376710444688797, 0.204639732837677, 0.20302772521972656, 0.2593739926815033, 0.5523571372032166, 0.25298619270324707, 0.1967211365699768, 0.3723211884498596, 0.16743144392967224, 0.8085282444953918, 0.11393005400896072, 0.12881982326507568, 0.5624254941940308, 0.21444837749004364, 0.13643963634967804, 0.7966628670692444, 0.5304374694824219, 0.8622031211853027, 0.5534548759460449, 0.13603290915489197, 0.2071934938430786, 0.127534419298172, 0.27275535464286804, 0.9721055626869202, 0.8491470217704773, 0.0018190069822594523, 0.9133628010749817, 0.861046552658081, 0.26514843106269836, 0.11727587133646011, 0.16194574534893036, 0.18157586455345154, 0.11793597042560577, 0.5963667631149292, 0.2869488000869751, 0.3292372524738312, 0.2061915099620819, 0.23793749511241913, 0.5395984053611755, 0.08779462426900864, 0.7689822912216187, 0.2286750078201294, 0.1388976275920868, 0.32049351930618286, 0.30589839816093445, 0.34862279891967773, 0.350857675075531, 0.3838144838809967, 0.40702199935913086, 0.13262897729873657, 0.12556105852127075, 0.21162481606006622, 0.2929462492465973, 0.08759213238954544, 0.02632744424045086, 0.02632744424045086, 0.02632744424045086, 0.3474668264389038, 0.09546973556280136, 0.0858134925365448, 0.1360466331243515, 0.08440598845481873, 0.6179265975952148, 0.4721289575099945, 0.11378537118434906, 0.5593376159667969, 0.538779616355896, 0.17626093327999115, 0.4058290421962738, 0.46174824237823486, 0.14463135600090027, 0.46738535165786743, 0.16891807317733765, 0.4438350200653076, 0.16667157411575317, 0.7535825371742249, 0.2598976492881775, 0.15623442828655243, 0.3013805150985718, 0.21049630641937256, 0.13017551600933075, 0.028314244002103806, 0.4481654763221741, 0.16116362810134888, 0.40147069096565247, 0.15596044063568115, ... ]"
      ]
     },
     "execution_count": 112,
     "metadata": {},
     "output_type": "execute_result"
    }
   ],
   "source": [
    "prob_final"
   ]
  },
  {
   "cell_type": "code",
   "execution_count": 118,
   "metadata": {
    "collapsed": false
   },
   "outputs": [
    {
     "data": {
      "text/plain": [
       "0.18421052631578949"
      ]
     },
     "execution_count": 118,
     "metadata": {},
     "output_type": "execute_result"
    }
   ],
   "source": [
    "c_best"
   ]
  },
  {
   "cell_type": "code",
   "execution_count": 119,
   "metadata": {
    "collapsed": true
   },
   "outputs": [],
   "source": [
    "decline = prob_final > c_best"
   ]
  },
  {
   "cell_type": "code",
   "execution_count": 121,
   "metadata": {
    "collapsed": false
   },
   "outputs": [
    {
     "data": {
      "text/plain": [
       "graphlab.data_structures.sarray.SArray"
      ]
     },
     "execution_count": 121,
     "metadata": {},
     "output_type": "execute_result"
    }
   ],
   "source": [
    "type(decline)"
   ]
  },
  {
   "cell_type": "code",
   "execution_count": 122,
   "metadata": {
    "collapsed": true
   },
   "outputs": [],
   "source": [
    "ID = data_test_imputed_sf['AUTH_ID']"
   ]
  },
  {
   "cell_type": "code",
   "execution_count": 124,
   "metadata": {
    "collapsed": true
   },
   "outputs": [],
   "source": [
    "submit_SF = graphlab.SFrame([ID, prob_final, decline])"
   ]
  },
  {
   "cell_type": "code",
   "execution_count": 129,
   "metadata": {
    "collapsed": false,
    "scrolled": true
   },
   "outputs": [],
   "source": [
    "submit_SF['X3'] = submit_SF['X3'].apply(lambda x: 'Y' if x == 1 else 'N')"
   ]
  },
  {
   "cell_type": "code",
   "execution_count": 130,
   "metadata": {
    "collapsed": false
   },
   "outputs": [
    {
     "data": {
      "text/html": [
       "<div style=\"max-height:1000px;max-width:1500px;overflow:auto;\"><table frame=\"box\" rules=\"cols\">\n",
       "    <tr>\n",
       "        <th style=\"padding-left: 1em; padding-right: 1em; text-align: center\">X1</th>\n",
       "        <th style=\"padding-left: 1em; padding-right: 1em; text-align: center\">X2</th>\n",
       "        <th style=\"padding-left: 1em; padding-right: 1em; text-align: center\">X3</th>\n",
       "    </tr>\n",
       "    <tr>\n",
       "        <td style=\"padding-left: 1em; padding-right: 1em; text-align: center; vertical-align: top\">8</td>\n",
       "        <td style=\"padding-left: 1em; padding-right: 1em; text-align: center; vertical-align: top\">0.31526812911</td>\n",
       "        <td style=\"padding-left: 1em; padding-right: 1em; text-align: center; vertical-align: top\">Y</td>\n",
       "    </tr>\n",
       "    <tr>\n",
       "        <td style=\"padding-left: 1em; padding-right: 1em; text-align: center; vertical-align: top\">12</td>\n",
       "        <td style=\"padding-left: 1em; padding-right: 1em; text-align: center; vertical-align: top\">0.193888470531</td>\n",
       "        <td style=\"padding-left: 1em; padding-right: 1em; text-align: center; vertical-align: top\">Y</td>\n",
       "    </tr>\n",
       "    <tr>\n",
       "        <td style=\"padding-left: 1em; padding-right: 1em; text-align: center; vertical-align: top\">18</td>\n",
       "        <td style=\"padding-left: 1em; padding-right: 1em; text-align: center; vertical-align: top\">0.680646419525</td>\n",
       "        <td style=\"padding-left: 1em; padding-right: 1em; text-align: center; vertical-align: top\">Y</td>\n",
       "    </tr>\n",
       "    <tr>\n",
       "        <td style=\"padding-left: 1em; padding-right: 1em; text-align: center; vertical-align: top\">19</td>\n",
       "        <td style=\"padding-left: 1em; padding-right: 1em; text-align: center; vertical-align: top\">0.116445980966</td>\n",
       "        <td style=\"padding-left: 1em; padding-right: 1em; text-align: center; vertical-align: top\">N</td>\n",
       "    </tr>\n",
       "    <tr>\n",
       "        <td style=\"padding-left: 1em; padding-right: 1em; text-align: center; vertical-align: top\">37</td>\n",
       "        <td style=\"padding-left: 1em; padding-right: 1em; text-align: center; vertical-align: top\">0.160595998168</td>\n",
       "        <td style=\"padding-left: 1em; padding-right: 1em; text-align: center; vertical-align: top\">N</td>\n",
       "    </tr>\n",
       "    <tr>\n",
       "        <td style=\"padding-left: 1em; padding-right: 1em; text-align: center; vertical-align: top\">38</td>\n",
       "        <td style=\"padding-left: 1em; padding-right: 1em; text-align: center; vertical-align: top\">0.0980385839939</td>\n",
       "        <td style=\"padding-left: 1em; padding-right: 1em; text-align: center; vertical-align: top\">N</td>\n",
       "    </tr>\n",
       "    <tr>\n",
       "        <td style=\"padding-left: 1em; padding-right: 1em; text-align: center; vertical-align: top\">54</td>\n",
       "        <td style=\"padding-left: 1em; padding-right: 1em; text-align: center; vertical-align: top\">0.607884526253</td>\n",
       "        <td style=\"padding-left: 1em; padding-right: 1em; text-align: center; vertical-align: top\">Y</td>\n",
       "    </tr>\n",
       "    <tr>\n",
       "        <td style=\"padding-left: 1em; padding-right: 1em; text-align: center; vertical-align: top\">63</td>\n",
       "        <td style=\"padding-left: 1em; padding-right: 1em; text-align: center; vertical-align: top\">0.206146195531</td>\n",
       "        <td style=\"padding-left: 1em; padding-right: 1em; text-align: center; vertical-align: top\">Y</td>\n",
       "    </tr>\n",
       "    <tr>\n",
       "        <td style=\"padding-left: 1em; padding-right: 1em; text-align: center; vertical-align: top\">74</td>\n",
       "        <td style=\"padding-left: 1em; padding-right: 1em; text-align: center; vertical-align: top\">0.340710490942</td>\n",
       "        <td style=\"padding-left: 1em; padding-right: 1em; text-align: center; vertical-align: top\">Y</td>\n",
       "    </tr>\n",
       "    <tr>\n",
       "        <td style=\"padding-left: 1em; padding-right: 1em; text-align: center; vertical-align: top\">76</td>\n",
       "        <td style=\"padding-left: 1em; padding-right: 1em; text-align: center; vertical-align: top\">0.321682542562</td>\n",
       "        <td style=\"padding-left: 1em; padding-right: 1em; text-align: center; vertical-align: top\">Y</td>\n",
       "    </tr>\n",
       "</table>\n",
       "[11302909 rows x 3 columns]<br/>Note: Only the head of the SFrame is printed.<br/>You can use print_rows(num_rows=m, num_columns=n) to print more rows and columns.\n",
       "</div>"
      ],
      "text/plain": [
       "Columns:\n",
       "\tX1\tint\n",
       "\tX2\tfloat\n",
       "\tX3\tstr\n",
       "\n",
       "Rows: 11302909\n",
       "\n",
       "Data:\n",
       "+----+-----------------+----+\n",
       "| X1 |        X2       | X3 |\n",
       "+----+-----------------+----+\n",
       "| 8  |  0.31526812911  | Y  |\n",
       "| 12 |  0.193888470531 | Y  |\n",
       "| 18 |  0.680646419525 | Y  |\n",
       "| 19 |  0.116445980966 | N  |\n",
       "| 37 |  0.160595998168 | N  |\n",
       "| 38 | 0.0980385839939 | N  |\n",
       "| 54 |  0.607884526253 | Y  |\n",
       "| 63 |  0.206146195531 | Y  |\n",
       "| 74 |  0.340710490942 | Y  |\n",
       "| 76 |  0.321682542562 | Y  |\n",
       "+----+-----------------+----+\n",
       "[11302909 rows x 3 columns]\n",
       "Note: Only the head of the SFrame is printed.\n",
       "You can use print_rows(num_rows=m, num_columns=n) to print more rows and columns."
      ]
     },
     "execution_count": 130,
     "metadata": {},
     "output_type": "execute_result"
    }
   ],
   "source": [
    "submit_SF"
   ]
  },
  {
   "cell_type": "code",
   "execution_count": 131,
   "metadata": {
    "collapsed": false,
    "scrolled": true
   },
   "outputs": [
    {
     "data": {
      "text/html": [
       "<div style=\"max-height:1000px;max-width:1500px;overflow:auto;\"><table frame=\"box\" rules=\"cols\">\n",
       "    <tr>\n",
       "        <th style=\"padding-left: 1em; padding-right: 1em; text-align: center\">AUTH_ID</th>\n",
       "        <th style=\"padding-left: 1em; padding-right: 1em; text-align: center\">P_FRAUD</th>\n",
       "        <th style=\"padding-left: 1em; padding-right: 1em; text-align: center\">DECLINE</th>\n",
       "    </tr>\n",
       "    <tr>\n",
       "        <td style=\"padding-left: 1em; padding-right: 1em; text-align: center; vertical-align: top\">8</td>\n",
       "        <td style=\"padding-left: 1em; padding-right: 1em; text-align: center; vertical-align: top\">0.31526812911</td>\n",
       "        <td style=\"padding-left: 1em; padding-right: 1em; text-align: center; vertical-align: top\">Y</td>\n",
       "    </tr>\n",
       "    <tr>\n",
       "        <td style=\"padding-left: 1em; padding-right: 1em; text-align: center; vertical-align: top\">12</td>\n",
       "        <td style=\"padding-left: 1em; padding-right: 1em; text-align: center; vertical-align: top\">0.193888470531</td>\n",
       "        <td style=\"padding-left: 1em; padding-right: 1em; text-align: center; vertical-align: top\">Y</td>\n",
       "    </tr>\n",
       "    <tr>\n",
       "        <td style=\"padding-left: 1em; padding-right: 1em; text-align: center; vertical-align: top\">18</td>\n",
       "        <td style=\"padding-left: 1em; padding-right: 1em; text-align: center; vertical-align: top\">0.680646419525</td>\n",
       "        <td style=\"padding-left: 1em; padding-right: 1em; text-align: center; vertical-align: top\">Y</td>\n",
       "    </tr>\n",
       "    <tr>\n",
       "        <td style=\"padding-left: 1em; padding-right: 1em; text-align: center; vertical-align: top\">19</td>\n",
       "        <td style=\"padding-left: 1em; padding-right: 1em; text-align: center; vertical-align: top\">0.116445980966</td>\n",
       "        <td style=\"padding-left: 1em; padding-right: 1em; text-align: center; vertical-align: top\">N</td>\n",
       "    </tr>\n",
       "    <tr>\n",
       "        <td style=\"padding-left: 1em; padding-right: 1em; text-align: center; vertical-align: top\">37</td>\n",
       "        <td style=\"padding-left: 1em; padding-right: 1em; text-align: center; vertical-align: top\">0.160595998168</td>\n",
       "        <td style=\"padding-left: 1em; padding-right: 1em; text-align: center; vertical-align: top\">N</td>\n",
       "    </tr>\n",
       "    <tr>\n",
       "        <td style=\"padding-left: 1em; padding-right: 1em; text-align: center; vertical-align: top\">38</td>\n",
       "        <td style=\"padding-left: 1em; padding-right: 1em; text-align: center; vertical-align: top\">0.0980385839939</td>\n",
       "        <td style=\"padding-left: 1em; padding-right: 1em; text-align: center; vertical-align: top\">N</td>\n",
       "    </tr>\n",
       "    <tr>\n",
       "        <td style=\"padding-left: 1em; padding-right: 1em; text-align: center; vertical-align: top\">54</td>\n",
       "        <td style=\"padding-left: 1em; padding-right: 1em; text-align: center; vertical-align: top\">0.607884526253</td>\n",
       "        <td style=\"padding-left: 1em; padding-right: 1em; text-align: center; vertical-align: top\">Y</td>\n",
       "    </tr>\n",
       "    <tr>\n",
       "        <td style=\"padding-left: 1em; padding-right: 1em; text-align: center; vertical-align: top\">63</td>\n",
       "        <td style=\"padding-left: 1em; padding-right: 1em; text-align: center; vertical-align: top\">0.206146195531</td>\n",
       "        <td style=\"padding-left: 1em; padding-right: 1em; text-align: center; vertical-align: top\">Y</td>\n",
       "    </tr>\n",
       "    <tr>\n",
       "        <td style=\"padding-left: 1em; padding-right: 1em; text-align: center; vertical-align: top\">74</td>\n",
       "        <td style=\"padding-left: 1em; padding-right: 1em; text-align: center; vertical-align: top\">0.340710490942</td>\n",
       "        <td style=\"padding-left: 1em; padding-right: 1em; text-align: center; vertical-align: top\">Y</td>\n",
       "    </tr>\n",
       "    <tr>\n",
       "        <td style=\"padding-left: 1em; padding-right: 1em; text-align: center; vertical-align: top\">76</td>\n",
       "        <td style=\"padding-left: 1em; padding-right: 1em; text-align: center; vertical-align: top\">0.321682542562</td>\n",
       "        <td style=\"padding-left: 1em; padding-right: 1em; text-align: center; vertical-align: top\">Y</td>\n",
       "    </tr>\n",
       "</table>\n",
       "[11302909 rows x 3 columns]<br/>Note: Only the head of the SFrame is printed.<br/>You can use print_rows(num_rows=m, num_columns=n) to print more rows and columns.\n",
       "</div>"
      ],
      "text/plain": [
       "Columns:\n",
       "\tAUTH_ID\tint\n",
       "\tP_FRAUD\tfloat\n",
       "\tDECLINE\tstr\n",
       "\n",
       "Rows: 11302909\n",
       "\n",
       "Data:\n",
       "+---------+-----------------+---------+\n",
       "| AUTH_ID |     P_FRAUD     | DECLINE |\n",
       "+---------+-----------------+---------+\n",
       "|    8    |  0.31526812911  |    Y    |\n",
       "|    12   |  0.193888470531 |    Y    |\n",
       "|    18   |  0.680646419525 |    Y    |\n",
       "|    19   |  0.116445980966 |    N    |\n",
       "|    37   |  0.160595998168 |    N    |\n",
       "|    38   | 0.0980385839939 |    N    |\n",
       "|    54   |  0.607884526253 |    Y    |\n",
       "|    63   |  0.206146195531 |    Y    |\n",
       "|    74   |  0.340710490942 |    Y    |\n",
       "|    76   |  0.321682542562 |    Y    |\n",
       "+---------+-----------------+---------+\n",
       "[11302909 rows x 3 columns]\n",
       "Note: Only the head of the SFrame is printed.\n",
       "You can use print_rows(num_rows=m, num_columns=n) to print more rows and columns."
      ]
     },
     "execution_count": 131,
     "metadata": {},
     "output_type": "execute_result"
    }
   ],
   "source": [
    "submit_SF.rename({'X1': 'AUTH_ID', 'X2':'P_FRAUD', 'X3':'DECLINE'})"
   ]
  },
  {
   "cell_type": "code",
   "execution_count": 132,
   "metadata": {
    "collapsed": true
   },
   "outputs": [],
   "source": [
    "submit_SF.save('/Users/yizhisun/Dropbox/C1_final_submit/final_submit.csv', format='csv')"
   ]
  },
  {
   "cell_type": "markdown",
   "metadata": {},
   "source": [
    "# Plot of cutoff and Loss"
   ]
  },
  {
   "cell_type": "code",
   "execution_count": 134,
   "metadata": {
    "collapsed": false,
    "scrolled": true
   },
   "outputs": [
    {
     "name": "stdout",
     "output_type": "stream",
     "text": [
      "[ 93045.389925  92651.3387    91793.833575  91623.3224    90929.3706\n",
      "  90397.95465   89989.04435   89445.66325   88608.35315   87968.04145\n",
      "  87319.379375  86894.160475  87466.198525  87082.5928    86447.81405\n",
      "  86643.557225  88379.58395   89146.280675  88733.8017    89091.33585 ]\n",
      "[ 0.14        0.14315789  0.14631579  0.14947368  0.15263158  0.15578947\n",
      "  0.15894737  0.16210526  0.16526316  0.16842105  0.17157895  0.17473684\n",
      "  0.17789474  0.18105263  0.18421053  0.18736842  0.19052632  0.19368421\n",
      "  0.19684211  0.2       ]\n"
     ]
    }
   ],
   "source": [
    "cutOffs = np.linspace(0.14, 0.2, num=20)\n",
    "print losses\n",
    "print cutOffs"
   ]
  },
  {
   "cell_type": "code",
   "execution_count": 136,
   "metadata": {
    "collapsed": false
   },
   "outputs": [
    {
     "data": {
      "text/plain": [
       "<matplotlib.text.Text at 0x1699caf50>"
      ]
     },
     "execution_count": 136,
     "metadata": {},
     "output_type": "execute_result"
    },
    {
     "data": {
      "image/png": "[encoded data removed]",
      "text/plain": [
       "<matplotlib.figure.Figure at 0x16c7153d0>"
      ]
     },
     "metadata": {},
     "output_type": "display_data"
    }
   ],
   "source": [
    "plt.plot(cutOffs, losses, 'r-')\n",
    "plt.xlabel('cut-offs')\n",
    "plt.ylabel('Losses')\n",
    "plt.title('Cut-Off points vs Losses')"
   ]
  }
 ],
 "metadata": {
  "kernelspec": {
   "display_name": "Python 2",
   "language": "python",
   "name": "python2"
  },
  "language_info": {
   "codemirror_mode": {
    "name": "ipython",
    "version": 2
   },
   "file_extension": ".py",
   "mimetype": "text/x-python",
   "name": "python",
   "nbconvert_exporter": "python",
   "pygments_lexer": "ipython2",
   "version": "2.7.11"
  }
 },
 "nbformat": 4,
 "nbformat_minor": 0
}
